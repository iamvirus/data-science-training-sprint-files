{
 "cells": [
  {
   "cell_type": "code",
   "execution_count": null,
   "metadata": {},
   "outputs": [],
   "source": [
    "import pandas as pd\n",
    "import numpy as np"
   ]
  },
  {
   "cell_type": "code",
   "execution_count": 6,
   "metadata": {},
   "outputs": [
    {
     "data": {
      "text/plain": [
       "2017-01-01    0.106915\n",
       "2017-01-02    0.260558\n",
       "2017-01-03    1.110845\n",
       "dtype: float64"
      ]
     },
     "execution_count": 6,
     "metadata": {},
     "output_type": "execute_result"
    }
   ],
   "source": [
    "date = [pd.Timestamp('2017-01-01'),\n",
    "       pd.Timestamp('2017-01-02'),\n",
    "       pd.Timestamp('2017-01-03')]\n",
    "timeseries = pd.Series(np.random.randn(len(date)), index= date)\n",
    "timeseries"
   ]
  },
  {
   "cell_type": "code",
   "execution_count": 7,
   "metadata": {},
   "outputs": [
    {
     "data": {
      "text/plain": [
       "DatetimeIndex(['2017-01-01', '2017-01-02', '2017-01-03'], dtype='datetime64[ns]', freq=None)"
      ]
     },
     "execution_count": 7,
     "metadata": {},
     "output_type": "execute_result"
    }
   ],
   "source": [
    "timeseries.index"
   ]
  },
  {
   "cell_type": "code",
   "execution_count": 8,
   "metadata": {},
   "outputs": [
    {
     "data": {
      "text/plain": [
       "0.2605577973373274"
      ]
     },
     "execution_count": 8,
     "metadata": {},
     "output_type": "execute_result"
    }
   ],
   "source": [
    "timeseries['2017-01-02']"
   ]
  },
  {
   "cell_type": "code",
   "execution_count": 72,
   "metadata": {},
   "outputs": [
    {
     "data": {
      "text/plain": [
       "2017-01-01    0.106915\n",
       "2017-01-02    0.260558\n",
       "dtype: float64"
      ]
     },
     "execution_count": 72,
     "metadata": {},
     "output_type": "execute_result"
    }
   ],
   "source": [
    "timeseries['2017-01-01': '2017-01-02']"
   ]
  },
  {
   "cell_type": "code",
   "execution_count": 10,
   "metadata": {},
   "outputs": [
    {
     "data": {
      "text/plain": [
       "DatetimeIndex(['2017-01-02', '2017-01-03', '2017-01-04', '2017-01-05',\n",
       "               '2017-01-06', '2017-01-09', '2017-01-10', '2017-01-11',\n",
       "               '2017-01-12', '2017-01-13', '2017-01-16', '2017-01-17',\n",
       "               '2017-01-18', '2017-01-19'],\n",
       "              dtype='datetime64[ns]', freq='B')"
      ]
     },
     "execution_count": 10,
     "metadata": {},
     "output_type": "execute_result"
    }
   ],
   "source": [
    "pd.date_range('2017-01-01','2017-01-19', freq = 'B')"
   ]
  },
  {
   "cell_type": "code",
   "execution_count": 11,
   "metadata": {},
   "outputs": [
    {
     "data": {
      "text/plain": [
       "DatetimeIndex(['2017-01-01 00:00:00', '2017-01-01 01:00:00',\n",
       "               '2017-01-01 02:00:00', '2017-01-01 03:00:00'],\n",
       "              dtype='datetime64[ns]', freq='H')"
      ]
     },
     "execution_count": 11,
     "metadata": {},
     "output_type": "execute_result"
    }
   ],
   "source": [
    "pd.date_range(start='2017-01-01',periods= 4 , freq= 'H')"
   ]
  },
  {
   "cell_type": "code",
   "execution_count": 12,
   "metadata": {},
   "outputs": [
    {
     "data": {
      "text/plain": [
       "DatetimeIndex(['2017-01-01 00:00:00', '2017-01-01 00:01:00',\n",
       "               '2017-01-01 00:02:00', '2017-01-01 00:03:00'],\n",
       "              dtype='datetime64[ns]', freq='T')"
      ]
     },
     "execution_count": 12,
     "metadata": {},
     "output_type": "execute_result"
    }
   ],
   "source": [
    "pd.date_range(start='2017-01-01', periods=4, freq='T')"
   ]
  },
  {
   "cell_type": "code",
   "execution_count": 13,
   "metadata": {},
   "outputs": [
    {
     "data": {
      "text/plain": [
       "DatetimeIndex(['2017-01-01 00:00:00', '2017-01-01 00:00:01',\n",
       "               '2017-01-01 00:00:02', '2017-01-01 00:00:03'],\n",
       "              dtype='datetime64[ns]', freq='S')"
      ]
     },
     "execution_count": 13,
     "metadata": {},
     "output_type": "execute_result"
    }
   ],
   "source": [
    "pd.date_range('2017-01-01', periods=4, freq='S')"
   ]
  },
  {
   "cell_type": "code",
   "execution_count": 15,
   "metadata": {},
   "outputs": [
    {
     "data": {
      "text/plain": [
       "DatetimeIndex(['2017-01-01 00:00:00', '2017-01-02 01:01:10',\n",
       "               '2017-01-03 02:02:20', '2017-01-04 03:03:30',\n",
       "               '2017-01-05 04:04:40'],\n",
       "              dtype='datetime64[ns]', freq='90070S')"
      ]
     },
     "execution_count": 15,
     "metadata": {},
     "output_type": "execute_result"
    }
   ],
   "source": [
    "pd.date_range(start='2017-01-01', periods=5, freq='1D1h1min10s')"
   ]
  },
  {
   "cell_type": "code",
   "execution_count": 16,
   "metadata": {},
   "outputs": [
    {
     "data": {
      "text/plain": [
       "DatetimeIndex(['2017-01-06', '2017-01-13', '2017-01-20', '2017-01-27',\n",
       "               '2017-02-03'],\n",
       "              dtype='datetime64[ns]', freq='W-FRI')"
      ]
     },
     "execution_count": 16,
     "metadata": {},
     "output_type": "execute_result"
    }
   ],
   "source": [
    "pd.date_range(start='2017-01-01', periods=5,freq= 'W-FRI')"
   ]
  },
  {
   "cell_type": "code",
   "execution_count": 28,
   "metadata": {},
   "outputs": [
    {
     "name": "stdout",
     "output_type": "stream",
     "text": [
      "\n",
      "a\n",
      " DatetimeIndex(['2017-01-02', '2018-01-01', '2019-01-01', '2020-01-01',\n",
      "               '2021-01-01', '2022-01-03', '2023-01-02', '2024-01-01',\n",
      "               '2025-01-01', '2026-01-01'],\n",
      "              dtype='datetime64[ns]', freq='BAS-JAN')\n",
      "\n",
      "b\n",
      " DatetimeIndex(['2017-02-28', '2018-02-28', '2019-02-28', '2020-02-29',\n",
      "               '2021-02-28', '2022-02-28', '2023-02-28', '2024-02-29',\n",
      "               '2025-02-28', '2026-02-28'],\n",
      "              dtype='datetime64[ns]', freq='A-FEB')\n",
      "\n",
      "a union b\n",
      "DatetimeIndex(['2017-01-02', '2017-02-28', '2018-01-01', '2018-02-28',\n",
      "               '2019-01-01', '2019-02-28', '2020-01-01', '2020-02-29',\n",
      "               '2021-01-01', '2021-02-28', '2022-01-03', '2022-02-28',\n",
      "               '2023-01-02', '2023-02-28', '2024-01-01', '2024-02-29',\n",
      "               '2025-01-01', '2025-02-28', '2026-01-01', '2026-02-28'],\n",
      "              dtype='datetime64[ns]', freq=None)\n"
     ]
    }
   ],
   "source": [
    "a = pd.date_range('2017-01-01', periods=10 ,freq= 'BAS-JAN')\n",
    "print('\\na\\n',a)\n",
    "b = pd.date_range('2017-01-01', periods=10, freq= 'A-FEB')\n",
    "print('\\nb\\n',b)\n",
    "print('\\na union b')\n",
    "print(a.union(b))"
   ]
  },
  {
   "cell_type": "code",
   "execution_count": 47,
   "metadata": {},
   "outputs": [
    {
     "name": "stdout",
     "output_type": "stream",
     "text": [
      "2017-09-18 08:00:00    44\n",
      "2017-09-18 08:01:00    40\n",
      "2017-09-18 08:02:00    60\n",
      "2017-09-18 08:03:00    47\n",
      "2017-09-18 08:04:00    94\n",
      "Freq: T, dtype: int32\n"
     ]
    },
    {
     "data": {
      "text/plain": [
       "2017-09-18 08:00:00    55.5\n",
       "2017-09-18 08:10:00    56.6\n",
       "2017-09-18 08:20:00    38.4\n",
       "2017-09-18 08:30:00    55.1\n",
       "2017-09-18 08:40:00    38.0\n",
       "Freq: 10T, dtype: float64"
      ]
     },
     "execution_count": 47,
     "metadata": {},
     "output_type": "execute_result"
    }
   ],
   "source": [
    "# Downsample Scenario\n",
    "# Let us take an example where customers are visiting a supermarket.\n",
    "# You are interested in studying the customer incidence pattern at different time steps.\n",
    "    \n",
    "customerArrival = pd.date_range('18/09/2017 8:00', periods=600, freq='T')\n",
    "custArrivalTs = pd.Series(np.random.randint(0,100,len(customerArrival)), index=customerArrival)\n",
    "print(custArrivalTs.head(5))\n",
    "\n",
    "# Downsample Data\n",
    "# You are not interested in customer incidence every minute but you would want to get the mean customer incidence every 10 mins.\n",
    "# The default aggregation is using the arithmetic mean.\n",
    "custArrivalTs_downsampled = custArrivalTs.resample('10min')\n",
    "custArrivalTs_downsampled.aggregate('mean').head()"
   ]
  },
  {
   "cell_type": "code",
   "execution_count": 49,
   "metadata": {},
   "outputs": [
    {
     "data": {
      "text/plain": [
       "2017-09-18 08:00:00    555\n",
       "2017-09-18 08:10:00    566\n",
       "2017-09-18 08:20:00    384\n",
       "2017-09-18 08:30:00    551\n",
       "2017-09-18 08:40:00    380\n",
       "Freq: 10T, dtype: int32"
      ]
     },
     "execution_count": 49,
     "metadata": {},
     "output_type": "execute_result"
    }
   ],
   "source": [
    "# Custom Aggregation\n",
    "\n",
    "custArrivalTs_downsampled = custArrivalTs.resample('10min').agg('sum')\n",
    "custArrivalTs_downsampled.head()"
   ]
  },
  {
   "cell_type": "code",
   "execution_count": 50,
   "metadata": {},
   "outputs": [
    {
     "data": {
      "text/plain": [
       "2017-09-18 08:00:00    94\n",
       "2017-09-18 08:10:00    86\n",
       "2017-09-18 08:20:00    99\n",
       "2017-09-18 08:30:00    90\n",
       "2017-09-18 08:40:00    98\n",
       "Freq: 10T, dtype: int32"
      ]
     },
     "execution_count": 50,
     "metadata": {},
     "output_type": "execute_result"
    }
   ],
   "source": [
    "custArrivalTs_downsampled = custArrivalTs.resample('10min').agg('max')\n",
    "custArrivalTs_downsampled.head()"
   ]
  },
  {
   "cell_type": "code",
   "execution_count": 53,
   "metadata": {},
   "outputs": [
    {
     "ename": "TypeError",
     "evalue": "resample() got an unexpected keyword argument 'how'",
     "output_type": "error",
     "traceback": [
      "\u001b[1;31m---------------------------------------------------------------------------\u001b[0m",
      "\u001b[1;31mTypeError\u001b[0m                                 Traceback (most recent call last)",
      "\u001b[1;32m<ipython-input-53-2a6b946cf563>\u001b[0m in \u001b[0;36m<module>\u001b[1;34m\u001b[0m\n\u001b[1;32m----> 1\u001b[1;33m \u001b[0mcustArrivalTs\u001b[0m\u001b[1;33m.\u001b[0m\u001b[0mresample\u001b[0m\u001b[1;33m(\u001b[0m\u001b[1;34m'1h'\u001b[0m\u001b[1;33m,\u001b[0m \u001b[0mhow\u001b[0m\u001b[1;33m=\u001b[0m\u001b[1;32mlambda\u001b[0m \u001b[0mm\u001b[0m\u001b[1;33m:\u001b[0m \u001b[0mrandom\u001b[0m\u001b[1;33m.\u001b[0m\u001b[0mchoice\u001b[0m\u001b[1;33m(\u001b[0m\u001b[0mm\u001b[0m\u001b[1;33m)\u001b[0m\u001b[1;33m)\u001b[0m\u001b[1;33m.\u001b[0m\u001b[0mhead\u001b[0m\u001b[1;33m(\u001b[0m\u001b[1;33m)\u001b[0m\u001b[1;33m\u001b[0m\u001b[1;33m\u001b[0m\u001b[0m\n\u001b[0m",
      "\u001b[1;31mTypeError\u001b[0m: resample() got an unexpected keyword argument 'how'"
     ]
    }
   ],
   "source": [
    "custArrivalTs.resample('1h', how=lambda m: random.choice(m)).head()"
   ]
  },
  {
   "cell_type": "code",
   "execution_count": 57,
   "metadata": {},
   "outputs": [
    {
     "name": "stdout",
     "output_type": "stream",
     "text": [
      "2017-09-18 08:00:00    44\n",
      "2017-09-18 08:01:00    40\n",
      "2017-09-18 08:02:00    60\n",
      "2017-09-18 08:03:00    47\n",
      "2017-09-18 08:04:00    94\n",
      "                       ..\n",
      "2017-09-18 17:55:00    20\n",
      "2017-09-18 17:56:00    58\n",
      "2017-09-18 17:57:00    33\n",
      "2017-09-18 17:58:00    54\n",
      "2017-09-18 17:59:00    39\n",
      "Freq: T, Length: 600, dtype: int32\n"
     ]
    },
    {
     "data": {
      "text/html": [
       "<div>\n",
       "<style scoped>\n",
       "    .dataframe tbody tr th:only-of-type {\n",
       "        vertical-align: middle;\n",
       "    }\n",
       "\n",
       "    .dataframe tbody tr th {\n",
       "        vertical-align: top;\n",
       "    }\n",
       "\n",
       "    .dataframe thead th {\n",
       "        text-align: right;\n",
       "    }\n",
       "</style>\n",
       "<table border=\"1\" class=\"dataframe\">\n",
       "  <thead>\n",
       "    <tr style=\"text-align: right;\">\n",
       "      <th></th>\n",
       "      <th>open</th>\n",
       "      <th>high</th>\n",
       "      <th>low</th>\n",
       "      <th>close</th>\n",
       "    </tr>\n",
       "  </thead>\n",
       "  <tbody>\n",
       "    <tr>\n",
       "      <th>2017-09-18 08:00:00</th>\n",
       "      <td>44</td>\n",
       "      <td>99</td>\n",
       "      <td>1</td>\n",
       "      <td>69</td>\n",
       "    </tr>\n",
       "    <tr>\n",
       "      <th>2017-09-18 09:00:00</th>\n",
       "      <td>75</td>\n",
       "      <td>99</td>\n",
       "      <td>0</td>\n",
       "      <td>93</td>\n",
       "    </tr>\n",
       "    <tr>\n",
       "      <th>2017-09-18 10:00:00</th>\n",
       "      <td>1</td>\n",
       "      <td>97</td>\n",
       "      <td>1</td>\n",
       "      <td>26</td>\n",
       "    </tr>\n",
       "    <tr>\n",
       "      <th>2017-09-18 11:00:00</th>\n",
       "      <td>31</td>\n",
       "      <td>99</td>\n",
       "      <td>1</td>\n",
       "      <td>72</td>\n",
       "    </tr>\n",
       "    <tr>\n",
       "      <th>2017-09-18 12:00:00</th>\n",
       "      <td>51</td>\n",
       "      <td>96</td>\n",
       "      <td>0</td>\n",
       "      <td>71</td>\n",
       "    </tr>\n",
       "  </tbody>\n",
       "</table>\n",
       "</div>"
      ],
      "text/plain": [
       "                     open  high  low  close\n",
       "2017-09-18 08:00:00    44    99    1     69\n",
       "2017-09-18 09:00:00    75    99    0     93\n",
       "2017-09-18 10:00:00     1    97    1     26\n",
       "2017-09-18 11:00:00    31    99    1     72\n",
       "2017-09-18 12:00:00    51    96    0     71"
      ]
     },
     "execution_count": 57,
     "metadata": {},
     "output_type": "execute_result"
    }
   ],
   "source": [
    "# Open High Low Close\n",
    "# Let's say you are analyzing customer incidence data. You would wish to see the opening, closing, high and low incidence values in a given interval of time.\n",
    "print(custArrivalTs)\n",
    "custArrivalTs.resample('1h').agg('ohlc').head()"
   ]
  },
  {
   "cell_type": "code",
   "execution_count": 70,
   "metadata": {},
   "outputs": [
    {
     "name": "stdout",
     "output_type": "stream",
     "text": [
      "2017-09-18 08:00:00    32\n",
      "2017-09-18 09:00:00    36\n",
      "2017-09-18 10:00:00    96\n",
      "2017-09-18 11:00:00    98\n",
      "2017-09-18 12:00:00    33\n",
      "Freq: H, dtype: int32\n",
      "\n",
      "Upsampled\n",
      "2017-09-18 08:00:00    32.0\n",
      "2017-09-18 08:15:00     NaN\n",
      "2017-09-18 08:30:00     NaN\n",
      "2017-09-18 08:45:00     NaN\n",
      "2017-09-18 09:00:00    36.0\n",
      "Freq: 15T, dtype: float64\n",
      "\n",
      "Forward Fill\n",
      "2017-09-18 08:00:00    32\n",
      "2017-09-18 08:15:00    32\n",
      "2017-09-18 08:30:00    32\n",
      "2017-09-18 08:45:00    32\n",
      "2017-09-18 09:00:00    36\n",
      "Freq: 15T, dtype: int32\n",
      "\n",
      "Backward Fill with limit 2\n",
      "2017-09-18 08:00:00    32.0\n",
      "2017-09-18 08:15:00     NaN\n",
      "2017-09-18 08:30:00    36.0\n",
      "2017-09-18 08:45:00    36.0\n",
      "2017-09-18 09:00:00    36.0\n",
      "Freq: 15T, dtype: float64\n",
      "\n",
      "Interpolation\n",
      "2017-09-18 08:00:00    32.0\n",
      "2017-09-18 08:15:00    33.0\n",
      "2017-09-18 08:30:00    34.0\n",
      "2017-09-18 08:45:00    35.0\n",
      "2017-09-18 09:00:00    36.0\n",
      "Freq: 15T, dtype: float64\n"
     ]
    }
   ],
   "source": [
    "# Upsampling\n",
    "# In upsampling, the frequency of the data points is more than that of the original data captured.\n",
    "\n",
    "sampleRng = pd.date_range('9/18/2017 8:00', periods=10, freq='H')\n",
    "sampleTs = pd.Series(np.random.randint(0, 100, len(sampleRng)), index=sampleRng)\n",
    "print(sampleTs.head())\n",
    "print()\n",
    "\n",
    "\n",
    "# Upsample\n",
    "print('Upsampled')\n",
    "print(sampleTs.resample('15min').mean().head())\n",
    "print()\n",
    "\n",
    "print('Forward Fill')\n",
    "print(sampleTs.resample('15min').ffill().head())\n",
    "print()\n",
    "\n",
    "print('Backward Fill with limit 2')\n",
    "print(sampleTs.resample('15min').bfill(limit = 2).head())\n",
    "print()\n",
    "\n",
    "print('Interpolation')\n",
    "print(sampleTs.resample('15min').interpolate().head())"
   ]
  },
  {
   "cell_type": "code",
   "execution_count": 93,
   "metadata": {},
   "outputs": [],
   "source": [
    "# Time Zones\n",
    "\n",
    "import pytz"
   ]
  },
  {
   "cell_type": "code",
   "execution_count": 94,
   "metadata": {},
   "outputs": [
    {
     "data": {
      "text/plain": [
       "['US/Eastern', 'US/Hawaii', 'US/Mountain', 'US/Pacific', 'UTC']"
      ]
     },
     "execution_count": 94,
     "metadata": {},
     "output_type": "execute_result"
    }
   ],
   "source": [
    "# Time Zones in Python\n",
    "pytz.common_timezones[-5:]"
   ]
  },
  {
   "cell_type": "code",
   "execution_count": 95,
   "metadata": {},
   "outputs": [
    {
     "data": {
      "text/plain": [
       "<DstTzInfo 'US/Eastern' LMT-1 day, 19:04:00 STD>"
      ]
     },
     "execution_count": 95,
     "metadata": {},
     "output_type": "execute_result"
    }
   ],
   "source": [
    "# Time Zone Object\n",
    "\n",
    "usEastTz = pytz.timezone('US/Eastern')\n",
    "usEastTz"
   ]
  },
  {
   "cell_type": "code",
   "execution_count": 96,
   "metadata": {},
   "outputs": [
    {
     "data": {
      "text/plain": [
       "<UTC>"
      ]
     },
     "execution_count": 96,
     "metadata": {},
     "output_type": "execute_result"
    }
   ],
   "source": [
    "# Localization\n",
    "\n",
    "timeZoneRng = pd.date_range('9/18/2017 9:30', periods=6, freq= 'D', tz ='UTC')\n",
    "timeZoneTs = pd.DataFrame(np.random.randn(len(timeZoneRng)), index=timeZoneRng)\n",
    "timeZoneTs.index.tz"
   ]
  },
  {
   "cell_type": "code",
   "execution_count": 99,
   "metadata": {},
   "outputs": [
    {
     "name": "stdout",
     "output_type": "stream",
     "text": [
      "Before conversion\n",
      "                                  0\n",
      "2017-09-18 09:30:00+00:00 -1.429946\n",
      "2017-09-19 09:30:00+00:00  0.217134\n",
      "2017-09-20 09:30:00+00:00 -0.694824\n",
      "2017-09-21 09:30:00+00:00 -1.932416\n",
      "2017-09-22 09:30:00+00:00 -0.027488\n",
      "2017-09-23 09:30:00+00:00 -1.520827\n",
      "\n",
      "after conversion\n",
      "                                  0\n",
      "2017-09-18 05:30:00-04:00 -1.429946\n",
      "2017-09-19 05:30:00-04:00  0.217134\n",
      "2017-09-20 05:30:00-04:00 -0.694824\n",
      "2017-09-21 05:30:00-04:00 -1.932416\n",
      "2017-09-22 05:30:00-04:00 -0.027488\n",
      "2017-09-23 05:30:00-04:00 -1.520827\n"
     ]
    }
   ],
   "source": [
    "# Conversion\n",
    "\n",
    "print('Before conversion')\n",
    "print(timeZoneTs)\n",
    "print()\n",
    "\n",
    "print('after conversion')\n",
    "print(timeZoneTs.tz_convert('US/Eastern'))"
   ]
  },
  {
   "cell_type": "code",
   "execution_count": 105,
   "metadata": {},
   "outputs": [
    {
     "data": {
      "text/plain": [
       "Timestamp('2011-09-19 04:00:00+0000', tz='UTC')"
      ]
     },
     "execution_count": 105,
     "metadata": {},
     "output_type": "execute_result"
    }
   ],
   "source": [
    "sampleTimeStamp = pd.Timestamp('2011-9-19 4:00')\n",
    "timeStamp_utc = sampleTimeStamp.tz_localize('UTC')\n",
    "timeStamp_utc"
   ]
  },
  {
   "cell_type": "code",
   "execution_count": 106,
   "metadata": {},
   "outputs": [
    {
     "data": {
      "text/plain": [
       "Timestamp('2011-09-19 00:00:00-0400', tz='US/Eastern')"
      ]
     },
     "execution_count": 106,
     "metadata": {},
     "output_type": "execute_result"
    }
   ],
   "source": [
    "timeStamp_utc.tz_convert('US/Eastern')"
   ]
  },
  {
   "cell_type": "code",
   "execution_count": 108,
   "metadata": {},
   "outputs": [
    {
     "data": {
      "text/plain": [
       "Timestamp('2012-03-12 01:30:00-0400', tz='US/Eastern')"
      ]
     },
     "execution_count": 108,
     "metadata": {},
     "output_type": "execute_result"
    }
   ],
   "source": [
    "# Daylight Savings in following cells\n",
    "\n",
    "from pandas.tseries.offsets import Hour\n",
    "stamp = pd.Timestamp('2012-03-12 01:30', tz='US/Eastern')\n",
    "stamp"
   ]
  },
  {
   "cell_type": "code",
   "execution_count": 110,
   "metadata": {},
   "outputs": [
    {
     "data": {
      "text/plain": [
       "Timestamp('2012-03-12 02:30:00-0400', tz='US/Eastern')"
      ]
     },
     "execution_count": 110,
     "metadata": {},
     "output_type": "execute_result"
    }
   ],
   "source": [
    "# 30 minutes before DST transition\n",
    "\n",
    "stamp + Hour()"
   ]
  },
  {
   "cell_type": "code",
   "execution_count": 112,
   "metadata": {},
   "outputs": [
    {
     "data": {
      "text/plain": [
       "Timestamp('2012-11-04 00:30:00-0400', tz='US/Eastern')"
      ]
     },
     "execution_count": 112,
     "metadata": {},
     "output_type": "execute_result"
    }
   ],
   "source": [
    "# 90 minutes before DST transition\n",
    "stamp = pd.Timestamp('2012-11-04 00:30', tz='US/Eastern')\n",
    "stamp"
   ]
  },
  {
   "cell_type": "code",
   "execution_count": 113,
   "metadata": {},
   "outputs": [
    {
     "data": {
      "text/plain": [
       "Timestamp('2012-11-04 01:30:00-0500', tz='US/Eastern')"
      ]
     },
     "execution_count": 113,
     "metadata": {},
     "output_type": "execute_result"
    }
   ],
   "source": [
    "stamp + 2 * Hour()"
   ]
  },
  {
   "cell_type": "code",
   "execution_count": 114,
   "metadata": {},
   "outputs": [
    {
     "data": {
      "text/plain": [
       "DatetimeIndex(['2017-09-19 01:30:00+00:00', '2017-09-20 01:30:00+00:00',\n",
       "               '2017-09-21 01:30:00+00:00', '2017-09-22 01:30:00+00:00',\n",
       "               '2017-09-25 01:30:00+00:00', '2017-09-26 01:30:00+00:00',\n",
       "               '2017-09-27 01:30:00+00:00'],\n",
       "              dtype='datetime64[ns, UTC]', freq='B')"
      ]
     },
     "execution_count": 114,
     "metadata": {},
     "output_type": "execute_result"
    }
   ],
   "source": [
    "# Combining Different Timezones\n",
    "\n",
    "dateRng = pd.date_range('9/19/2017 9:30', periods=10, freq='B')\n",
    "timeSeries =  pd.Series(np.random.randn(len(dateRng)), index=dateRng)\n",
    "tz1 = timeSeries[:7].tz_localize('Asia/Singapore')\n",
    "tz2 = tz1[2:].tz_convert('Asia/Seoul')\n",
    "combine = tz1 + tz2\n",
    "combine.index"
   ]
  },
  {
   "cell_type": "code",
   "execution_count": 115,
   "metadata": {},
   "outputs": [
    {
     "name": "stdout",
     "output_type": "stream",
     "text": [
      "2017-09-19 09:30:00+08:00   -0.782339\n",
      "2017-09-20 09:30:00+08:00   -1.028772\n",
      "2017-09-21 09:30:00+08:00   -0.933222\n",
      "2017-09-22 09:30:00+08:00   -0.415400\n",
      "2017-09-25 09:30:00+08:00   -0.036998\n",
      "2017-09-26 09:30:00+08:00   -0.582230\n",
      "2017-09-27 09:30:00+08:00   -0.521552\n",
      "Freq: B, dtype: float64\n",
      "2017-09-21 10:30:00+09:00   -0.933222\n",
      "2017-09-22 10:30:00+09:00   -0.415400\n",
      "2017-09-25 10:30:00+09:00   -0.036998\n",
      "2017-09-26 10:30:00+09:00   -0.582230\n",
      "2017-09-27 10:30:00+09:00   -0.521552\n",
      "Freq: B, dtype: float64\n"
     ]
    }
   ],
   "source": [
    "print(tz1)\n",
    "print(tz2)"
   ]
  },
  {
   "cell_type": "code",
   "execution_count": 123,
   "metadata": {},
   "outputs": [
    {
     "name": "stdout",
     "output_type": "stream",
     "text": [
      "2017-01-01    8\n",
      "2017-02-01    6\n",
      "2017-03-01    5\n",
      "2017-04-01    7\n",
      "2017-05-01    4\n",
      "Freq: MS, dtype: int32\n"
     ]
    },
    {
     "data": {
      "text/plain": [
       "<matplotlib.axes._subplots.AxesSubplot at 0x1e948389af0>"
      ]
     },
     "execution_count": 123,
     "metadata": {},
     "output_type": "execute_result"
    },
    {
     "data": {
      "image/png": "[encoded data removed]",
      "text/plain": [
       "<Figure size 432x288 with 1 Axes>"
      ]
     },
     "metadata": {
      "needs_background": "light"
     },
     "output_type": "display_data"
    }
   ],
   "source": [
    "# Time Series Plotting\n",
    "\n",
    "%matplotlib inline\n",
    "sampleRng = pd.date_range(start='2017', periods=120, freq='MS')\n",
    "sampleTs = pd.Series(np.random.randint(-10, 10, size=len(sampleRng)), sampleRng).cumsum()\n",
    "print(sampleTs.head())\n",
    "sampleTs.plot(c='r', title='Sample time series')"
   ]
  },
  {
   "cell_type": "code",
   "execution_count": 132,
   "metadata": {},
   "outputs": [
    {
     "data": {
      "text/plain": [
       "<matplotlib.axes._subplots.AxesSubplot at 0x1e949cb7dc0>"
      ]
     },
     "execution_count": 132,
     "metadata": {},
     "output_type": "execute_result"
    },
    {
     "data": {
      "image/png": "[encoded data removed]",
      "text/plain": [
       "<Figure size 432x288 with 1 Axes>"
      ]
     },
     "metadata": {
      "needs_background": "light"
     },
     "output_type": "display_data"
    }
   ],
   "source": [
    "sampleRng = pd.date_range(start='2017', periods=120, freq='MS')\n",
    "sampleTs = pd.Series(np.random.randint(-10, 10, size=len(sampleRng)), sampleRng).cumsum()\n",
    "sampleTs.plot(c='r', title='Sample time series')\n",
    "sampleTs.resample('2A').mean().plot(c='b', ls='--')\n",
    "sampleTs.resample('5A').mean().plot(c='g', ls='-.')\n"
   ]
  },
  {
   "cell_type": "code",
   "execution_count": 134,
   "metadata": {},
   "outputs": [
    {
     "data": {
      "text/plain": [
       "<matplotlib.axes._subplots.AxesSubplot at 0x1e949cfbeb0>"
      ]
     },
     "execution_count": 134,
     "metadata": {},
     "output_type": "execute_result"
    },
    {
     "data": {
      "image/png": "[encoded data removed]",
      "text/plain": [
       "<Figure size 432x288 with 1 Axes>"
      ]
     },
     "metadata": {
      "needs_background": "light"
     },
     "output_type": "display_data"
    }
   ],
   "source": [
    "# Lag Plot Using Python\n",
    "\n",
    "from pandas.plotting import lag_plot\n",
    "lag_plot(sampleTs)"
   ]
  },
  {
   "cell_type": "code",
   "execution_count": 135,
   "metadata": {},
   "outputs": [
    {
     "data": {
      "text/plain": [
       "<matplotlib.axes._subplots.AxesSubplot at 0x1e94ad97670>"
      ]
     },
     "execution_count": 135,
     "metadata": {},
     "output_type": "execute_result"
    },
    {
     "data": {
      "image/png": "[encoded data removed]",
      "text/plain": [
       "<Figure size 432x288 with 1 Axes>"
      ]
     },
     "metadata": {
      "needs_background": "light"
     },
     "output_type": "display_data"
    }
   ],
   "source": [
    "from pandas.plotting import autocorrelation_plot\n",
    "autocorrelation_plot(sampleTs)"
   ]
  },
  {
   "cell_type": "code",
   "execution_count": 137,
   "metadata": {},
   "outputs": [],
   "source": [
    "# Stationarity\n",
    "# In statistical terms, the mean, variance and the temporal correlation remain constant over time.\n",
    "# A simpler definition is that there are no seasonal or trend components in the time series."
   ]
  },
  {
   "cell_type": "code",
   "execution_count": 140,
   "metadata": {},
   "outputs": [
    {
     "name": "stdout",
     "output_type": "stream",
     "text": [
      "ADF Statistic: -1.142729\n",
      "p-value: 0.697735\n",
      "\t1%: -3.487\n",
      "\t5%: -2.886\n",
      "\t10%: -2.580\n"
     ]
    }
   ],
   "source": [
    "# Augmented Dickey - Fuller test\n",
    "# ADF test is the best way to determine if time series data is stationary or not. This kind of test is known as Unit Root Test.\n",
    "# The main objective of this test is that it identifies how the trend component determines the time series.\n",
    "\n",
    "from statsmodels.tsa.stattools import adfuller\n",
    "\n",
    "# The more negative the ADF statistic value is the more likely the data is stationary.\n",
    "# The ADF Statistic should be compared to critical p-values that are at 1, 5, and 10%.\n",
    "# If the ADF statistic value is less than the critical value at 5% and the p-value is less than 0.05, \n",
    "# then we can reject the null hypothesis that the data is non-stationary with 95% confidence level.\n",
    "\n",
    "sampleRng = pd.date_range(start='2017', periods=120, freq='MS')\n",
    "sampleTs = pd.Series(np.random.randint(-10, 10, size=len(sampleRng)), sampleRng).cumsum()\n",
    "sampleTs\n",
    "\n",
    "tsResult = adfuller(sampleTs)\n",
    "print('ADF Statistic: %f' % tsResult[0])\n",
    "print('p-value: %f' % tsResult[1])\n",
    "for key, value in tsResult[4].items():\n",
    "    print('\\t%s: %.3f' % (key, value))\n"
   ]
  },
  {
   "cell_type": "code",
   "execution_count": 141,
   "metadata": {},
   "outputs": [],
   "source": [
    "# Auto Correlation Function\n",
    "# Another way of determining stationarity is Autocorrelation Function. Here, you find the correlation \n",
    "# between two data points that are one time step away.\n",
    "# When you visualize this correlation, you can get insights on the stationarity of the time series.\n",
    "# If the ACF plot is having an exponential decay, it means the time series is stationary."
   ]
  },
  {
   "cell_type": "code",
   "execution_count": 143,
   "metadata": {},
   "outputs": [],
   "source": [
    "# Components Explained\n",
    "# Trend: This component shows the overall series behavior - the slow change of values over time.\n",
    "# Season: This shows the changes that happen in cycles that are less than one year.\n",
    "# Cycles: Changes that happen for more than a year.\n",
    "# Random: Anything that is not included in the above three components.\n",
    "# The underlying assumption has to be that the time series data is stationary."
   ]
  },
  {
   "cell_type": "code",
   "execution_count": 144,
   "metadata": {},
   "outputs": [],
   "source": [
    "# Steps in Time Series Analysis\n",
    "\n",
    "# Few steps to be followed while performing time series analysis:\n",
    "# Check for Stationarity.\n",
    "# Decompose the model into its various components.\n",
    "# Analyse the components.\n",
    "# Fit the time series forecasting model and predict future values."
   ]
  },
  {
   "cell_type": "code",
   "execution_count": 146,
   "metadata": {},
   "outputs": [],
   "source": [
    "# Seasonal Decomposition\n",
    "\n",
    "from statsmodels.tsa.seasonal import seasonal_decompose\n",
    "sampleTs_decomp = seasonal_decompose(sampleTs, period=12) \n",
    "sampleTs_trend = sampleTs_decomp.trend \n",
    "sampleTs_seasonal = sampleTs_decomp.seasonal \n",
    "sampleTs_residual = sampleTs_decomp.resid"
   ]
  },
  {
   "cell_type": "code",
   "execution_count": 155,
   "metadata": {},
   "outputs": [
    {
     "data": {
      "text/plain": [
       "<matplotlib.axes._subplots.AxesSubplot at 0x1e94e1c5160>"
      ]
     },
     "execution_count": 155,
     "metadata": {},
     "output_type": "execute_result"
    },
    {
     "data": {
      "image/png": "[encoded data removed]",
      "text/plain": [
       "<Figure size 432x288 with 1 Axes>"
      ]
     },
     "metadata": {
      "needs_background": "light"
     },
     "output_type": "display_data"
    }
   ],
   "source": [
    "sampleTs.plot()\n",
    "sampleTs_trend.plot(c='r')\n",
    "sampleTs_seasonal.plot(c = 'g')\n",
    "sampleTs_residual.plot(c = 'pink')"
   ]
  },
  {
   "cell_type": "code",
   "execution_count": 156,
   "metadata": {},
   "outputs": [],
   "source": [
    "# Modeling Time Series\n",
    "# So far, you have seen how to slice and dice the time series data and how to check for stationarity.\n",
    "# The next logical step in time series analysis is forecasting. Forecasting in time series can be done in several ways.\n",
    "# You will be learning about the following methodologies:\n",
    "\n",
    "# Autoregressive\n",
    "\n",
    "# Moving Average\n",
    "\n",
    "# Autoregressive Moving Average\n",
    "\n",
    "# Autoregressive Integrated Moving Average"
   ]
  },
  {
   "cell_type": "code",
   "execution_count": 161,
   "metadata": {},
   "outputs": [],
   "source": [
    "# Autoregressive\n",
    "\n",
    "\n",
    "from statsmodels.tsa.arima_model import ARIMA \n",
    "model = ARIMA(sampleTs, order=(1, 1, 0)) \n",
    "predValues = model.fit()"
   ]
  },
  {
   "cell_type": "code",
   "execution_count": 160,
   "metadata": {},
   "outputs": [],
   "source": [
    "# Moving Average\n",
    "\n",
    "model = ARIMA(sampleTs, order=(0, 1, 1)) \n",
    "movingAvgRes = model.fit() "
   ]
  },
  {
   "cell_type": "code",
   "execution_count": 163,
   "metadata": {},
   "outputs": [],
   "source": [
    "# Autoregressive Integrated Moving Average\n",
    "\n",
    "# ARIMA\n",
    "# ARIMA is the combination of Autoregressive and Moving Average. ARIMA stands for Autoregressive Integrated Moving Average.\n",
    "# It is another model used for forecasting in Time Series Analysis.\n",
    "\n",
    "model = ARIMA(sampleTs, order=(1, 0, 1)) \n",
    "arimares = model.fit() "
   ]
  },
  {
   "cell_type": "code",
   "execution_count": 164,
   "metadata": {},
   "outputs": [],
   "source": [
    "# Steps in Time Series\n",
    "# The first step is to visualize the time series.\n",
    "\n",
    "# The second step is to make the data stationary.\n",
    "\n",
    "#  - This can be accomplished by \n",
    "\n",
    "#  - Detrending \n",
    "\n",
    "#  - Differencing\n",
    "\n",
    "#  - Seasonality \n",
    "# Getting the optimal parameters through Auto Correlation and Partial Auto Correlation\n",
    "\n",
    "# Build Model (AR , MA , ARMA , ARIMA) using the parameters\n",
    "\n",
    "# Make Predictions"
   ]
  },
  {
   "cell_type": "code",
   "execution_count": 174,
   "metadata": {},
   "outputs": [
    {
     "data": {
      "text/plain": [
       "2011-01-01   NaN\n",
       "2011-01-02   NaN\n",
       "2011-01-03   NaN\n",
       "2011-01-04   NaN\n",
       "2011-01-05   NaN\n",
       "2011-01-31   NaN\n",
       "2011-02-28   NaN\n",
       "2011-03-31   NaN\n",
       "2011-04-30   NaN\n",
       "2011-05-31   NaN\n",
       "dtype: float64"
      ]
     },
     "execution_count": 174,
     "metadata": {},
     "output_type": "execute_result"
    }
   ],
   "source": [
    "sampleRng1 = pd.date_range('2011-01-01', periods=5, freq='D')\n",
    "sampleRng2 = pd.date_range('2011-01-01', periods=5, freq='M')\n",
    "\n",
    "sampleTs1 = pd.Series(np.random.randn(len(sampleRng1)), index=sampleRng1)\n",
    "sampleTs2 = pd.Series(np.random.randn(len(sampleRng2)), index=sampleRng2)\n",
    "combine = sampleTs1 + sampleTs2\n",
    "combine"
   ]
  },
  {
   "cell_type": "code",
   "execution_count": 173,
   "metadata": {},
   "outputs": [
    {
     "data": {
      "text/plain": [
       "2011-01-01    1.555569\n",
       "2011-01-02   -0.060299\n",
       "2011-01-03    0.138877\n",
       "2011-01-04   -0.202856\n",
       "2011-01-05   -0.550749\n",
       "Freq: D, dtype: float64"
      ]
     },
     "execution_count": 173,
     "metadata": {},
     "output_type": "execute_result"
    }
   ],
   "source": [
    "sampleTs1"
   ]
  },
  {
   "cell_type": "code",
   "execution_count": null,
   "metadata": {},
   "outputs": [],
   "source": []
  }
 ],
 "metadata": {
  "kernelspec": {
   "display_name": "Python 3",
   "language": "python",
   "name": "python3"
  },
  "language_info": {
   "codemirror_mode": {
    "name": "ipython",
    "version": 3
   },
   "file_extension": ".py",
   "mimetype": "text/x-python",
   "name": "python",
   "nbconvert_exporter": "python",
   "pygments_lexer": "ipython3",
   "version": "3.8.3"
  }
 },
 "nbformat": 4,
 "nbformat_minor": 4
}
