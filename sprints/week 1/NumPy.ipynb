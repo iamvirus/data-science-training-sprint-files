{
 "cells": [
  {
   "cell_type": "code",
   "execution_count": 2,
   "metadata": {},
   "outputs": [
    {
     "data": {
      "text/plain": [
       "numpy.ndarray"
      ]
     },
     "execution_count": 2,
     "metadata": {},
     "output_type": "execute_result"
    }
   ],
   "source": [
    "import numpy as np\n",
    "\n",
    "x  = np.array([1,5,9,6,8])\n",
    "type(x)"
   ]
  },
  {
   "cell_type": "code",
   "execution_count": 6,
   "metadata": {},
   "outputs": [
    {
     "name": "stdout",
     "output_type": "stream",
     "text": [
      "[[1 2 6 8]\n",
      " [8 6 4 5]]\n"
     ]
    }
   ],
   "source": [
    "y = np.array([[1,2,6,8],[8,6,4,5]])\n",
    "print(y)"
   ]
  },
  {
   "cell_type": "code",
   "execution_count": 7,
   "metadata": {},
   "outputs": [
    {
     "name": "stdout",
     "output_type": "stream",
     "text": [
      "2 (2, 4) 8 int32 4 32\n"
     ]
    }
   ],
   "source": [
    "print(y.ndim, y.shape, y.size, y.dtype, y.itemsize, y.nbytes)"
   ]
  },
  {
   "cell_type": "code",
   "execution_count": 16,
   "metadata": {},
   "outputs": [
    {
     "name": "stdout",
     "output_type": "stream",
     "text": [
      "[[ 1.  2.  3.  4.]\n",
      " [ 5.  6.  7.  8.]]\n",
      "float64\n"
     ]
    }
   ],
   "source": [
    "y = np.array([[1,2,3,4],[5,6,7,8]],dtype='float')\n",
    "print(y)\n",
    "print(y.dtype)"
   ]
  },
  {
   "cell_type": "code",
   "execution_count": 19,
   "metadata": {},
   "outputs": [
    {
     "data": {
      "text/plain": [
       "  C_CONTIGUOUS : True\n",
       "  F_CONTIGUOUS : False\n",
       "  OWNDATA : True\n",
       "  WRITEABLE : True\n",
       "  ALIGNED : True\n",
       "  UPDATEIFCOPY : False"
      ]
     },
     "execution_count": 19,
     "metadata": {},
     "output_type": "execute_result"
    }
   ],
   "source": [
    "y.flags"
   ]
  },
  {
   "cell_type": "code",
   "execution_count": 20,
   "metadata": {},
   "outputs": [
    {
     "name": "stdout",
     "output_type": "stream",
     "text": [
      "[[1 2 3 4]\n",
      " [5 6 7 8]]\n",
      "8\n"
     ]
    }
   ],
   "source": [
    "y = np.array([[1,2,3,4],[5,6,7,8]],dtype='int64')\n",
    "print(y)\n",
    "print(y.itemsize)"
   ]
  },
  {
   "cell_type": "code",
   "execution_count": 32,
   "metadata": {},
   "outputs": [
    {
     "name": "stdout",
     "output_type": "stream",
     "text": [
      "<class 'numpy.ndarray'>\n",
      "1 (5,) 5\n"
     ]
    }
   ],
   "source": [
    "n = [5, 10, 15, 20, 25]\n",
    "x = np.array(n)\n",
    "print(type(x))\n",
    "print(x.ndim, x.shape, x.size)"
   ]
  },
  {
   "cell_type": "code",
   "execution_count": 33,
   "metadata": {},
   "outputs": [
    {
     "name": "stdout",
     "output_type": "stream",
     "text": [
      "<class 'numpy.ndarray'>\n",
      "2 (2, 4) 8 int32 4\n"
     ]
    }
   ],
   "source": [
    "n = [[-1, -2, -3, -4], [-2,-4, -6, -8]]\n",
    "y = np.array(n)\n",
    "print(type(y))\n",
    "print(y.ndim, y.shape, y.size, y.dtype, y.itemsize)"
   ]
  },
  {
   "cell_type": "code",
   "execution_count": 40,
   "metadata": {},
   "outputs": [
    {
     "data": {
      "text/plain": [
       "(numpy.ndarray, dtype('float64'), (2, 3, 2))"
      ]
     },
     "execution_count": 40,
     "metadata": {},
     "output_type": "execute_result"
    }
   ],
   "source": [
    "a = [[[4.1, 2.5], [1.1, 2.3], [9.1, 2.5]], [[8.6, 9.9],[3.6, 4.3], [6.6, 0.3]]]\n",
    "x = np.array(a,dtype='float64')\n",
    "type(x), x.dtype, x.shape"
   ]
  },
  {
   "cell_type": "code",
   "execution_count": 45,
   "metadata": {},
   "outputs": [
    {
     "name": "stdout",
     "output_type": "stream",
     "text": [
      "[[ 0.  0.  0.  0.]\n",
      " [ 0.  0.  0.  0.]]\n"
     ]
    }
   ],
   "source": [
    "x = np.zeros((2,4))\n",
    "print(x)"
   ]
  },
  {
   "cell_type": "code",
   "execution_count": 48,
   "metadata": {},
   "outputs": [
    {
     "name": "stdout",
     "output_type": "stream",
     "text": [
      "[[0 0 0 0]\n",
      " [0 0 0 0]]\n"
     ]
    }
   ],
   "source": [
    "x = np.zeros(shape = (2,4),dtype='int')\n",
    "print(x)"
   ]
  },
  {
   "cell_type": "code",
   "execution_count": 49,
   "metadata": {},
   "outputs": [
    {
     "name": "stdout",
     "output_type": "stream",
     "text": [
      "[[23 23 23]\n",
      " [23 23 23]]\n"
     ]
    }
   ],
   "source": [
    "y = np.full(shape= (2,3), fill_value=23)\n",
    "print(y)"
   ]
  },
  {
   "cell_type": "code",
   "execution_count": 52,
   "metadata": {},
   "outputs": [
    {
     "name": "stdout",
     "output_type": "stream",
     "text": [
      "[  3.    5.5   8.   10.5  13. ]\n"
     ]
    }
   ],
   "source": [
    "x = np.arange(3,15,2.5)\n",
    "print(x)"
   ]
  },
  {
   "cell_type": "code",
   "execution_count": 53,
   "metadata": {},
   "outputs": [
    {
     "name": "stdout",
     "output_type": "stream",
     "text": [
      "[  3.   6.   9.  12.  15.]\n"
     ]
    }
   ],
   "source": [
    "x = np.linspace(3,15,5)\n",
    "print(x)"
   ]
  },
  {
   "cell_type": "code",
   "execution_count": 55,
   "metadata": {},
   "outputs": [
    {
     "name": "stdout",
     "output_type": "stream",
     "text": [
      "[ 0.54340494  0.27836939]\n"
     ]
    }
   ],
   "source": [
    "np.random.seed(100)\n",
    "x = np.random.rand(2)\n",
    "print(x)"
   ]
  },
  {
   "cell_type": "code",
   "execution_count": 56,
   "metadata": {},
   "outputs": [
    {
     "name": "stdout",
     "output_type": "stream",
     "text": [
      "[33 25 20 40 44 12]\n"
     ]
    }
   ],
   "source": [
    "x = np.random.randint(10,50,6)\n",
    "print(x)"
   ]
  },
  {
   "cell_type": "code",
   "execution_count": 70,
   "metadata": {},
   "outputs": [
    {
     "name": "stdout",
     "output_type": "stream",
     "text": [
      "[-1.11831825  1.61898166  1.54160517 -0.25187914]\n"
     ]
    }
   ],
   "source": [
    "# Standard normal distribution\n",
    "np.random.seed = 100\n",
    "x = np.random.randn(4)\n",
    "print(x)"
   ]
  },
  {
   "cell_type": "code",
   "execution_count": 73,
   "metadata": {},
   "outputs": [
    {
     "name": "stdout",
     "output_type": "stream",
     "text": [
      "[ 11.46200069  12.72311225   9.34752388]\n"
     ]
    }
   ],
   "source": [
    "# normal distribution with mean 10 and sd 2\n",
    "#set seed as 100\n",
    "np.random.seed =100\n",
    "\n",
    "x = 10 + 2*np.random.randn(3) \n",
    "print(x)"
   ]
  },
  {
   "cell_type": "code",
   "execution_count": 86,
   "metadata": {},
   "outputs": [
    {
     "name": "stdout",
     "output_type": "stream",
     "text": [
      "2.02266771915 10.0040700574\n"
     ]
    }
   ],
   "source": [
    "np.random.seed = 100\n",
    "x = 10 + 2*np.random.randn(10000)\n",
    "print(x.std(),x.mean())"
   ]
  },
  {
   "cell_type": "code",
   "execution_count": 89,
   "metadata": {},
   "outputs": [
    {
     "name": "stdout",
     "output_type": "stream",
     "text": [
      "[[ 88.25  93.45  72.6   90.9 ]\n",
      " [ 72.3   78.85  92.15  65.75]\n",
      " [ 90.5   92.45  89.25  94.5 ]]\n",
      "<class 'numpy.ndarray'> float64 2 (3, 4)\n"
     ]
    }
   ],
   "source": [
    "# Reading Data from a file\n",
    "\n",
    "from io import StringIO\n",
    "\n",
    "x = StringIO('''88.25 93.45 72.60 90.90\n",
    "72.3 78.85 92.15 65.75\n",
    "90.5 92.45 89.25 94.50\n",
    "''')\n",
    "\n",
    "d = np.loadtxt(x,delimiter=' ')\n",
    "print(d)\n",
    "print(type(d),d.dtype, d.ndim, d.shape)"
   ]
  },
  {
   "cell_type": "code",
   "execution_count": 90,
   "metadata": {},
   "outputs": [
    {
     "data": {
      "text/plain": [
       "array([[ 0.37791878,  0.5578307 ,  0.3626368 ],\n",
       "       [ 0.906111  ,  0.20198801,  0.5502618 ]])"
      ]
     },
     "execution_count": 90,
     "metadata": {},
     "output_type": "execute_result"
    }
   ],
   "source": [
    "np.random.rand(2,3)"
   ]
  },
  {
   "cell_type": "code",
   "execution_count": 95,
   "metadata": {},
   "outputs": [
    {
     "name": "stdout",
     "output_type": "stream",
     "text": [
      "(2, 2)\n"
     ]
    }
   ],
   "source": [
    "import numpy as np\n",
    "\n",
    "print(np.array(([1, 2], (3,4))).shape)"
   ]
  },
  {
   "cell_type": "code",
   "execution_count": 97,
   "metadata": {},
   "outputs": [
    {
     "name": "stdout",
     "output_type": "stream",
     "text": [
      "3 (2, 2, 2) 8\n"
     ]
    }
   ],
   "source": [
    "x1 = np.array( [[[-1,1],[-2,2]],[[-3 ,3], [-4, 4]]] )\n",
    "print (x1.ndim, x1.shape, x1.size)"
   ]
  },
  {
   "cell_type": "code",
   "execution_count": 100,
   "metadata": {},
   "outputs": [
    {
     "name": "stdout",
     "output_type": "stream",
     "text": [
      "[[[ 1.  1.]\n",
      "  [ 1.  1.]]\n",
      "\n",
      " [[ 1.  1.]\n",
      "  [ 1.  1.]]\n",
      "\n",
      " [[ 1.  1.]\n",
      "  [ 1.  1.]]]\n",
      "[[ 1.  0.  0.  0.]\n",
      " [ 0.  1.  0.  0.]\n",
      " [ 0.  0.  1.  0.]\n",
      " [ 0.  0.  0.  1.]]\n"
     ]
    }
   ],
   "source": [
    "x2 = np.ones(shape = (3,2,2))\n",
    "print(x2)\n",
    "\n",
    "x3 = np.eye(4)\n",
    "print(x3)"
   ]
  },
  {
   "cell_type": "code",
   "execution_count": 101,
   "metadata": {},
   "outputs": [
    {
     "name": "stdout",
     "output_type": "stream",
     "text": [
      "[[[ 0.98856748  0.71424492]\n",
      "  [ 0.53241104  0.6609214 ]\n",
      "  [ 0.18343567  0.58564401]\n",
      "  [ 0.58203101  0.58821186]]\n",
      "\n",
      " [[ 0.13868864  0.57575239]\n",
      "  [ 0.38649619  0.97895376]\n",
      "  [ 0.79364109  0.97386859]\n",
      "  [ 0.44606073  0.49125144]]\n",
      "\n",
      " [[ 0.16906892  0.3176221 ]\n",
      "  [ 0.9448535   0.45043741]\n",
      "  [ 0.4693901   0.73987985]\n",
      "  [ 0.73555026  0.57949203]]]\n"
     ]
    }
   ],
   "source": [
    "x4 = np.random.rand(3,4,2)\n",
    "print(x4)"
   ]
  },
  {
   "cell_type": "code",
   "execution_count": 104,
   "metadata": {},
   "outputs": [
    {
     "name": "stdout",
     "output_type": "stream",
     "text": [
      "[ 2  4  6  8 10 12 14 16 18 20 22 24 26 28 30 32 34 36 38 40]\n"
     ]
    }
   ],
   "source": [
    "x6 = np.arange(2,42,2)\n",
    "print(x6)"
   ]
  },
  {
   "cell_type": "code",
   "execution_count": 105,
   "metadata": {},
   "outputs": [
    {
     "name": "stdout",
     "output_type": "stream",
     "text": [
      "[ 10.          10.34482759  10.68965517  11.03448276  11.37931034\n",
      "  11.72413793  12.06896552  12.4137931   12.75862069  13.10344828\n",
      "  13.44827586  13.79310345  14.13793103  14.48275862  14.82758621\n",
      "  15.17241379  15.51724138  15.86206897  16.20689655  16.55172414\n",
      "  16.89655172  17.24137931  17.5862069   17.93103448  18.27586207\n",
      "  18.62068966  18.96551724  19.31034483  19.65517241  20.        ]\n"
     ]
    }
   ],
   "source": [
    "x7 = np.linspace(10,20,30)\n",
    "print(x7)"
   ]
  },
  {
   "cell_type": "code",
   "execution_count": 109,
   "metadata": {},
   "outputs": [
    {
     "name": "stdout",
     "output_type": "stream",
     "text": [
      "[34 81 75 66 77 62 92 39]\n",
      "\n",
      "[[34 81 75 66]\n",
      " [77 62 92 39]]\n",
      "\n",
      "[[[34 81]\n",
      "  [75 66]]\n",
      "\n",
      " [[77 62]\n",
      "  [92 39]]]\n"
     ]
    }
   ],
   "source": [
    "# Reshaping ndarrays\n",
    "# Shape of an array can be changed using reshape.\n",
    "\n",
    "np.random.seed = 100\n",
    "x = np.random.randint(10,100,8)\n",
    "print(x,end='\\n\\n')\n",
    "\n",
    "y = x.reshape(2,4)\n",
    "print(y,end='\\n\\n')\n",
    "\n",
    "z = x.reshape(2,2,2)\n",
    "print(z)"
   ]
  },
  {
   "cell_type": "code",
   "execution_count": 117,
   "metadata": {},
   "outputs": [
    {
     "name": "stdout",
     "output_type": "stream",
     "text": [
      "[[-1  1]\n",
      " [-3  3]]\n",
      "\n",
      "[[-2  2]\n",
      " [-4  4]]\n",
      "\n",
      "vertically stacked\n"
     ]
    },
    {
     "data": {
      "text/plain": [
       "array([[-1,  1],\n",
       "       [-3,  3],\n",
       "       [-2,  2],\n",
       "       [-4,  4]])"
      ]
     },
     "execution_count": 117,
     "metadata": {},
     "output_type": "execute_result"
    }
   ],
   "source": [
    "# Stacking arrays vertically\n",
    "# Two or more arrays can be joined vertically using the generic vstack method.\n",
    "\n",
    "x = np.array([[-1, 1], [-3, 3]])\n",
    "y = np.array([[-2, 2], [-4, 4]])\n",
    "print(x,y,sep='\\n\\n')\n",
    "\n",
    "print('\\nvertically stacked')\n",
    "\n",
    "np.vstack((x,y))"
   ]
  },
  {
   "cell_type": "code",
   "execution_count": 119,
   "metadata": {},
   "outputs": [
    {
     "name": "stdout",
     "output_type": "stream",
     "text": [
      "[[-1  1]\n",
      " [-3  3]]\n",
      "\n",
      "[[-2  2]\n",
      " [-4  4]]\n",
      "\n",
      "[[-5  5]\n",
      " [-6  6]]\n",
      "\n",
      "vertically stacked\n"
     ]
    },
    {
     "data": {
      "text/plain": [
       "array([[-1,  1, -2,  2, -5,  5],\n",
       "       [-3,  3, -4,  4, -6,  6]])"
      ]
     },
     "execution_count": 119,
     "metadata": {},
     "output_type": "execute_result"
    }
   ],
   "source": [
    "# Stacking arrays horizontally\n",
    "# Two or more arrays can be joined horizontally using the generic hstack method.\n",
    "\n",
    "x = np.array([[-1, 1], [-3, 3]])\n",
    "y = np.array([[-2, 2], [-4, 4]])\n",
    "z = np.array([[-5, 5], [-6, 6]])\n",
    "print(x,y,z,sep='\\n\\n')\n",
    "\n",
    "print('\\nvertically stacked')\n",
    "\n",
    "np.hstack((x,y,z))"
   ]
  },
  {
   "cell_type": "code",
   "execution_count": 126,
   "metadata": {},
   "outputs": [
    {
     "name": "stdout",
     "output_type": "stream",
     "text": [
      "[[ 0  1  2  3  4]\n",
      " [ 5  6  7  8  9]\n",
      " [10 11 12 13 14]\n",
      " [15 16 17 18 19]\n",
      " [20 21 22 23 24]\n",
      " [25 26 27 28 29]]\n",
      "\n",
      "[[ 0  1  2  3  4]\n",
      " [ 5  6  7  8  9]\n",
      " [10 11 12 13 14]]\n",
      "\n",
      "[[15 16 17 18 19]\n",
      " [20 21 22 23 24]\n",
      " [25 26 27 28 29]]\n"
     ]
    }
   ],
   "source": [
    "# Splitting arrays vertically\n",
    "\n",
    "x = np.arange(30).reshape(6,5)\n",
    "print(x)\n",
    "print()\n",
    "split = np.vsplit(x,2)\n",
    "print(split[0])\n",
    "print()\n",
    "print(split[1])"
   ]
  },
  {
   "cell_type": "code",
   "execution_count": 136,
   "metadata": {},
   "outputs": [
    {
     "name": "stdout",
     "output_type": "stream",
     "text": [
      "[[ 0  1  2  3  4]\n",
      " [ 5  6  7  8  9]\n",
      " [10 11 12 13 14]\n",
      " [15 16 17 18 19]\n",
      " [20 21 22 23 24]\n",
      " [25 26 27 28 29]]\n",
      "\n",
      "[[0 1 2 3 4]\n",
      " [5 6 7 8 9]]\n",
      "\n",
      "[[10 11 12 13 14]\n",
      " [15 16 17 18 19]\n",
      " [20 21 22 23 24]]\n",
      "\n",
      "[[25 26 27 28 29]]\n",
      "\n"
     ]
    }
   ],
   "source": [
    "x = np.arange(30).reshape(6,5)\n",
    "print(x,end='\\n\\n')\n",
    "\n",
    "split = np.vsplit(x,(2,5))\n",
    "print(split[0],end = '\\n\\n')\n",
    "print(split[1],end = '\\n\\n')\n",
    "print(split[2],end = '\\n\\n')"
   ]
  },
  {
   "cell_type": "code",
   "execution_count": 139,
   "metadata": {},
   "outputs": [
    {
     "name": "stdout",
     "output_type": "stream",
     "text": [
      "[[0 1 2 3 4]\n",
      " [5 6 7 8 9]]\n",
      "\n",
      "[[0 1]\n",
      " [5 6]]\n",
      "\n",
      "[[2 3]\n",
      " [7 8]]\n",
      "\n",
      "[[4]\n",
      " [9]]\n"
     ]
    }
   ],
   "source": [
    "x = np.arange(10).reshape(2, 5)\n",
    "print(x, end='\\n\\n')\n",
    "res = np.hsplit(x, (2,4))\n",
    "print(res[0], end='\\n\\n')\n",
    "print(res[1], end='\\n\\n')\n",
    "print(res[2])"
   ]
  },
  {
   "cell_type": "code",
   "execution_count": 144,
   "metadata": {},
   "outputs": [
    {
     "name": "stdout",
     "output_type": "stream",
     "text": [
      "[[0 1 2]\n",
      " [3 4 5]]\n",
      "[[0 1]\n",
      " [3 4]]\n",
      "[[2]\n",
      " [5]]\n"
     ]
    }
   ],
   "source": [
    "x = np.arange(6).reshape(2,3)\n",
    "print(x)\n",
    "y = np.hsplit(x,(2,))\n",
    "print(y[0])\n",
    "print(y[1])"
   ]
  },
  {
   "cell_type": "code",
   "execution_count": 148,
   "metadata": {},
   "outputs": [
    {
     "name": "stdout",
     "output_type": "stream",
     "text": [
      "[[0 1]\n",
      " [2 3]]\n",
      "\n",
      "[[4 5]\n",
      " [6 7]]\n",
      "\n",
      "[[0 1 4 5]\n",
      " [2 3 6 7]]\n"
     ]
    }
   ],
   "source": [
    "x = np.arange(4).reshape(2,2)\n",
    "y = np.arange(4, 8).reshape(2,2)\n",
    "print(x,y,sep='\\n\\n',end='\\n\\n')\n",
    "print(np.hstack((x,y)))"
   ]
  },
  {
   "cell_type": "code",
   "execution_count": 151,
   "metadata": {},
   "outputs": [
    {
     "name": "stdout",
     "output_type": "stream",
     "text": [
      "[ 1  2  3  4  5  6  7  8  9 10 11 12 13 14 15 16 17 18 19 20]\n",
      "(20,)\n",
      "[[ 1  2  3  4  5  6  7  8  9 10]\n",
      " [11 12 13 14 15 16 17 18 19 20]]\n"
     ]
    },
    {
     "data": {
      "text/plain": [
       "[array([[ 1,  2,  3,  4,  5],\n",
       "        [11, 12, 13, 14, 15]]), array([[ 6,  7,  8,  9, 10],\n",
       "        [16, 17, 18, 19, 20]])]"
      ]
     },
     "execution_count": 151,
     "metadata": {},
     "output_type": "execute_result"
    }
   ],
   "source": [
    "x = np.arange(1,21)\n",
    "print(x)\n",
    "print(x.shape)\n",
    "y = x.reshape(2,10)\n",
    "print(y)\n",
    "np.hsplit(y,2)"
   ]
  },
  {
   "cell_type": "code",
   "execution_count": 154,
   "metadata": {},
   "outputs": [
    {
     "name": "stdout",
     "output_type": "stream",
     "text": [
      "[array([[ 1,  2,  3,  4,  5],\n",
      "       [ 6,  7,  8,  9, 10]]), array([[11, 12, 13, 14, 15],\n",
      "       [16, 17, 18, 19, 20]])]\n"
     ]
    }
   ],
   "source": [
    "z = x.reshape(4,5)\n",
    "z\n",
    "print(np.vsplit(z,2))"
   ]
  },
  {
   "cell_type": "code",
   "execution_count": 160,
   "metadata": {},
   "outputs": [
    {
     "name": "stdout",
     "output_type": "stream",
     "text": [
      "[[ 3  6]\n",
      " [ 9 12]]\n",
      "\n",
      "[[15 18 21]\n",
      " [24 27 30]]\n",
      "\n",
      "[[ 3  6 15 18 21]\n",
      " [ 9 12 24 27 30]]\n"
     ]
    }
   ],
   "source": [
    "p = np.array([3, 6, 9, 12]).reshape(2,2)\n",
    "q = np.array([15, 18, 21, 24, 27, 30]).reshape(2,3)\n",
    "print(p,q,sep='\\n\\n',end='\\n\\n')\n",
    "print(np.hstack((p,q)))"
   ]
  },
  {
   "cell_type": "code",
   "execution_count": 161,
   "metadata": {},
   "outputs": [
    {
     "name": "stdout",
     "output_type": "stream",
     "text": [
      "[[0 1 2]\n",
      " [3 4 5]]\n",
      "[[10 11 12]\n",
      " [13 14 15]]\n",
      "[[0 1 0]\n",
      " [1 0 1]]\n",
      "[[ 0  2  4]\n",
      " [ 6  8 10]]\n"
     ]
    }
   ],
   "source": [
    "# Basic Operations with Scalars\n",
    "\n",
    "x = np.arange(6).reshape(2,3)\n",
    "print(x)\n",
    "print(x+10)\n",
    "print(x%2)\n",
    "print(x*2)"
   ]
  },
  {
   "cell_type": "code",
   "execution_count": 168,
   "metadata": {},
   "outputs": [
    {
     "name": "stdout",
     "output_type": "stream",
     "text": [
      "[[-1  1]\n",
      " [-2  2]]\n",
      "\n",
      "[[ 4 -4]\n",
      " [ 5 -5]]\n",
      "\n",
      "[[ 3 -3]\n",
      " [ 3 -3]]\n",
      "\n",
      "[[ -4  -4]\n",
      " [-10 -10]]\n"
     ]
    }
   ],
   "source": [
    "x = np.array([[-1,1],[-2,2]])\n",
    "y = np.array([[4,-4],[5,-5]])\n",
    "\n",
    "print(x,y,sep='\\n\\n',end='\\n\\n')\n",
    "print(x+y,end='\\n\\n')\n",
    "print(x*y)"
   ]
  },
  {
   "cell_type": "code",
   "execution_count": 169,
   "metadata": {},
   "outputs": [
    {
     "name": "stdout",
     "output_type": "stream",
     "text": [
      "[[-1  1]\n",
      " [-2  2]]\n",
      "\n",
      "[-10  10]\n",
      "\n",
      "[[10 10]\n",
      " [20 20]]\n"
     ]
    }
   ],
   "source": [
    "x = np.array([[-1, 1], [-2, 2]])\n",
    "y = np.array([-10, 10])\n",
    "print(x,y,sep='\\n\\n',end='\\n\\n')\n",
    "print(x * y)"
   ]
  },
  {
   "cell_type": "code",
   "execution_count": 174,
   "metadata": {},
   "outputs": [
    {
     "ename": "ValueError",
     "evalue": "cannot reshape array of size 6 into shape (2,)",
     "output_type": "error",
     "traceback": [
      "\u001b[1;31m---------------------------------------------------------------------------\u001b[0m",
      "\u001b[1;31mValueError\u001b[0m                                Traceback (most recent call last)",
      "\u001b[1;32m<ipython-input-174-5b37d6c6583d>\u001b[0m in \u001b[0;36m<module>\u001b[1;34m()\u001b[0m\n\u001b[1;32m----> 1\u001b[1;33m \u001b[0mx\u001b[0m \u001b[1;33m=\u001b[0m \u001b[0mnp\u001b[0m\u001b[1;33m.\u001b[0m\u001b[0marange\u001b[0m\u001b[1;33m(\u001b[0m\u001b[1;36m6\u001b[0m\u001b[1;33m)\u001b[0m\u001b[1;33m.\u001b[0m\u001b[0mreshape\u001b[0m\u001b[1;33m(\u001b[0m\u001b[1;36m2\u001b[0m\u001b[1;33m,\u001b[0m\u001b[1;33m)\u001b[0m\u001b[1;33m\u001b[0m\u001b[0m\n\u001b[0m\u001b[0;32m      2\u001b[0m \u001b[0my\u001b[0m \u001b[1;33m=\u001b[0m \u001b[0mnp\u001b[0m\u001b[1;33m.\u001b[0m\u001b[0marange\u001b[0m\u001b[1;33m(\u001b[0m\u001b[1;36m12\u001b[0m\u001b[1;33m)\u001b[0m\u001b[1;33m.\u001b[0m\u001b[0mreshape\u001b[0m\u001b[1;33m(\u001b[0m\u001b[1;36m4\u001b[0m\u001b[1;33m,\u001b[0m\u001b[1;36m3\u001b[0m\u001b[1;33m)\u001b[0m\u001b[1;33m\u001b[0m\u001b[0m\n\u001b[0;32m      3\u001b[0m \u001b[0mprint\u001b[0m\u001b[1;33m(\u001b[0m\u001b[0mx\u001b[0m\u001b[1;33m,\u001b[0m\u001b[0my\u001b[0m\u001b[1;33m,\u001b[0m\u001b[0msep\u001b[0m\u001b[1;33m=\u001b[0m\u001b[1;34m'\\n\\n'\u001b[0m\u001b[1;33m,\u001b[0m\u001b[0mend\u001b[0m\u001b[1;33m=\u001b[0m\u001b[1;34m'\\n\\n'\u001b[0m\u001b[1;33m)\u001b[0m\u001b[1;33m\u001b[0m\u001b[0m\n",
      "\u001b[1;31mValueError\u001b[0m: cannot reshape array of size 6 into shape (2,)"
     ]
    }
   ],
   "source": [
    "x = np.arange(6).reshape()\n",
    "y = np.arange(12).reshape(4,3)\n",
    "print(x,y,sep='\\n\\n',end='\\n\\n')\n"
   ]
  },
  {
   "cell_type": "code",
   "execution_count": 175,
   "metadata": {},
   "outputs": [
    {
     "name": "stdout",
     "output_type": "stream",
     "text": [
      "[[0 1]\n",
      " [4 9]]\n",
      "[[ 0.          0.84147098]\n",
      " [ 0.90929743  0.14112001]]\n"
     ]
    }
   ],
   "source": [
    "x = np.array([[0,1], [2,3]])\n",
    "print(np.square(x))\n",
    "print(np.sin(x))"
   ]
  },
  {
   "cell_type": "code",
   "execution_count": 177,
   "metadata": {},
   "outputs": [
    {
     "name": "stdout",
     "output_type": "stream",
     "text": [
      "[[0 1]\n",
      " [2 3]]\n",
      "\n",
      "6\n",
      "\n",
      "[2 4]\n",
      "\n",
      "[[1]\n",
      " [5]]\n",
      "\n"
     ]
    }
   ],
   "source": [
    "x = np.array([[0,1], [2, 3]])\n",
    "print(x, end='\\n\\n')\n",
    "print(x.sum(), end='\\n\\n')\n",
    "print(x.sum(axis=0), end='\\n\\n')\n",
    "print(x.sum(axis=1,keepdims=True), end='\\n\\n')"
   ]
  },
  {
   "cell_type": "code",
   "execution_count": 178,
   "metadata": {},
   "outputs": [
    {
     "name": "stdout",
     "output_type": "stream",
     "text": [
      "[[-5  1]\n",
      " [-1  5]]\n"
     ]
    }
   ],
   "source": [
    "x = np.array([[-2], \n",
    "              [2]])\n",
    "y = np.array([[-3, 3]])\n",
    "print(x + y)"
   ]
  },
  {
   "cell_type": "code",
   "execution_count": 179,
   "metadata": {},
   "outputs": [
    {
     "name": "stdout",
     "output_type": "stream",
     "text": [
      "[[ 6 -6]\n",
      " [-6  6]]\n"
     ]
    }
   ],
   "source": [
    "x = np.array([[-2], \n",
    "              [2]])\n",
    "y = np.array([[-3, 3]])\n",
    "print(x.dot(y))"
   ]
  },
  {
   "cell_type": "code",
   "execution_count": 180,
   "metadata": {},
   "outputs": [
    {
     "name": "stdout",
     "output_type": "stream",
     "text": [
      "[[-2], [2]]\n"
     ]
    }
   ],
   "source": [
    "print(x.tolist())"
   ]
  },
  {
   "cell_type": "code",
   "execution_count": 181,
   "metadata": {},
   "outputs": [
    {
     "name": "stdout",
     "output_type": "stream",
     "text": [
      "[0 1 4 9]\n"
     ]
    }
   ],
   "source": [
    "x = np.arange(4)\n",
    "print(x**2)"
   ]
  },
  {
   "cell_type": "code",
   "execution_count": 182,
   "metadata": {},
   "outputs": [
    {
     "name": "stdout",
     "output_type": "stream",
     "text": [
      "[3 3 3 3]\n"
     ]
    }
   ],
   "source": [
    "import numpy as np\n",
    "\n",
    "print(np.repeat(3, 4))"
   ]
  },
  {
   "cell_type": "code",
   "execution_count": 184,
   "metadata": {},
   "outputs": [
    {
     "name": "stdout",
     "output_type": "stream",
     "text": [
      "[[ 0  1  2  3  4]\n",
      " [ 5  6  7  8  9]\n",
      " [10 11 12 13 14]\n",
      " [15 16 17 18 19]]\n",
      "[  2.   7.  12.  17.]\n"
     ]
    }
   ],
   "source": [
    "x = np.arange(20).reshape(4,5)\n",
    "print(x)\n",
    "print(x.mean(axis=1))"
   ]
  },
  {
   "cell_type": "code",
   "execution_count": 186,
   "metadata": {},
   "outputs": [
    {
     "name": "stdout",
     "output_type": "stream",
     "text": [
      "[[ 0  1  2  3  4  5]\n",
      " [ 6  7  8  9 10 11]\n",
      " [12 13 14 15 16 17]\n",
      " [18 19 20 21 22 23]\n",
      " [24 25 26 27 28 29]]\n",
      "[5 5 5 5 5]\n"
     ]
    }
   ],
   "source": [
    "x = np.arange(30).reshape(5,6)\n",
    "print(x)\n",
    "print(x.argmax(axis=1))"
   ]
  },
  {
   "cell_type": "code",
   "execution_count": 190,
   "metadata": {},
   "outputs": [
    {
     "data": {
      "text/plain": [
       "array([[[ 0.52396226,  0.20122834],\n",
       "        [ 0.21554275,  0.51359692],\n",
       "        [ 0.65610657,  0.31028412],\n",
       "        [ 0.33696585,  0.01644841],\n",
       "        [ 0.24541089,  0.68433623],\n",
       "        [ 0.50461501,  0.43775817],\n",
       "        [ 0.10827343,  0.39359986],\n",
       "        [ 0.43660705,  0.44071626]],\n",
       "\n",
       "       [[ 0.19346285,  0.06067577],\n",
       "        [ 0.56635874,  0.54656185],\n",
       "        [ 0.69748185,  0.16216987],\n",
       "        [ 0.5738721 ,  0.33964128],\n",
       "        [ 0.21862563,  0.27364012],\n",
       "        [ 0.30680935,  0.59715174],\n",
       "        [ 0.68352068,  0.03943791],\n",
       "        [ 0.45262212,  0.16337214]],\n",
       "\n",
       "       [[ 0.676965  ,  0.64850135],\n",
       "        [ 0.65383901,  0.44107331],\n",
       "        [ 0.49793463,  0.21447807],\n",
       "        [ 0.40511743,  0.41408351],\n",
       "        [ 0.25886279,  0.69128004],\n",
       "        [ 0.63076012,  0.05691771],\n",
       "        [ 0.46445297,  0.11292491],\n",
       "        [ 0.05282091,  0.53321803]],\n",
       "\n",
       "       [[ 0.54723576,  0.53696687],\n",
       "        [ 0.22829693,  0.10027839],\n",
       "        [ 0.04608852,  0.13898097],\n",
       "        [ 0.41665191,  0.49239177],\n",
       "        [ 0.32070863,  0.56562591],\n",
       "        [ 0.30747594,  0.25057416],\n",
       "        [ 0.13687766,  0.51374231],\n",
       "        [ 0.38583631,  0.40440327]],\n",
       "\n",
       "       [[ 0.406133  ,  0.159851  ],\n",
       "        [ 0.72284213,  0.25916162],\n",
       "        [ 0.18003215,  0.67279327],\n",
       "        [ 0.16359686,  0.60162457],\n",
       "        [ 0.25996999,  0.45576004],\n",
       "        [ 0.19161208,  0.30685822],\n",
       "        [ 0.27545553,  0.52179682],\n",
       "        [ 0.59225564,  0.68143518]]])"
      ]
     },
     "execution_count": 190,
     "metadata": {},
     "output_type": "execute_result"
    }
   ],
   "source": [
    "np.random.rand(5,8,2) * np.random.rand(2,)"
   ]
  },
  {
   "cell_type": "code",
   "execution_count": 188,
   "metadata": {},
   "outputs": [
    {
     "name": "stdout",
     "output_type": "stream",
     "text": [
      "[[ True  True]\n",
      " [ True  True]]\n"
     ]
    }
   ],
   "source": [
    "x = np.arange(4).reshape(2,2)\n",
    "print(np.isfinite(x))"
   ]
  },
  {
   "cell_type": "code",
   "execution_count": 193,
   "metadata": {},
   "outputs": [
    {
     "name": "stdout",
     "output_type": "stream",
     "text": [
      "[[ 11 -15 -14 -10   9  12]\n",
      " [ 17  23  -2 -16  29 -22]\n",
      " [ -5  25 -12 -13   8  -2]\n",
      " [  1   5  25 -16  -5 -13]\n",
      " [ 10 -19  -6  23  14 -21]]\n",
      "21\n",
      "[[ 34  19  -9 -32  55 -46]]\n",
      "[[-7]\n",
      " [29]\n",
      " [ 1]\n",
      " [-3]\n",
      " [ 1]]\n"
     ]
    }
   ],
   "source": [
    "x = np.random.randint(-30,30,30).reshape(5,6)\n",
    "print(x)\n",
    "print(x.sum())\n",
    "print(x.sum(axis=0,keepdims=1))\n",
    "print(x.sum(axis=1,keepdims=1))"
   ]
  },
  {
   "cell_type": "code",
   "execution_count": 198,
   "metadata": {},
   "outputs": [
    {
     "name": "stdout",
     "output_type": "stream",
     "text": [
      "[ 13.80737931   8.41669982  10.62194602  13.24078312   7.44157049\n",
      "  10.27900179   9.34800385   8.45921573  10.54647658   7.08120059\n",
      "   8.92193181  11.32416739  11.0170341    8.96880093  10.51393895\n",
      "  11.08197393  11.8526174    6.43520819  13.26877588  13.15618207\n",
      "   8.86677259   7.82168232   8.60226361   8.34311235   7.40585214\n",
      "   9.81071825  11.41628811  10.58559656   9.94095302  10.45459706\n",
      "  12.16447623  10.03688851   7.36484602   5.20924291  10.26951769\n",
      "  10.60243627   8.74556216  11.38069437   8.44084318  12.56148312\n",
      "   9.98446383  11.58810415  10.00984985   5.98132997   8.55280474\n",
      "   8.44478655  11.6231478   10.5521426    5.47595438  10.0316508 ] (50,)\n",
      "9.76101938168\n",
      "2.00323003345\n",
      "4.01293056693\n"
     ]
    }
   ],
   "source": [
    "x = 10 + 2*np.random.randn(50)\n",
    "print(x,x.shape)\n",
    "print(x.mean())\n",
    "print(x.std())\n",
    "print(x.var())"
   ]
  },
  {
   "cell_type": "code",
   "execution_count": 199,
   "metadata": {},
   "outputs": [
    {
     "name": "stdout",
     "output_type": "stream",
     "text": [
      "[[4 5]]\n",
      "[3 4 5]\n",
      "[1 4]\n"
     ]
    }
   ],
   "source": [
    "y = np.array([[0, 1, 2],\n",
    "              [3, 4, 5]])\n",
    "print(y[1:2, 1:3]) \n",
    "print(y[1])   \n",
    "print(y[:, 1]) \n"
   ]
  },
  {
   "cell_type": "code",
   "execution_count": 201,
   "metadata": {},
   "outputs": [
    {
     "name": "stdout",
     "output_type": "stream",
     "text": [
      "[[0 1]\n",
      " [2 3]]\n",
      "0\n",
      "1\n",
      "2\n",
      "3\n"
     ]
    }
   ],
   "source": [
    "x = np.array([[0,1], [2, 3]])\n",
    "print(x)\n",
    "for a in np.nditer(x):\n",
    "    print(a)"
   ]
  },
  {
   "cell_type": "code",
   "execution_count": 202,
   "metadata": {},
   "outputs": [
    {
     "name": "stdout",
     "output_type": "stream",
     "text": [
      "[[0 1 2 3 4]\n",
      " [5 6 7 8 9]]\n",
      "[[ True False  True False  True]\n",
      " [False  True False  True False]]\n",
      "[0 2 4 6 8]\n"
     ]
    }
   ],
   "source": [
    "x = np.arange(10).reshape(2,5)\n",
    "print(x)\n",
    "BoolArray = x%2 ==0\n",
    "print(BoolArray)\n",
    "print(x[BoolArray])"
   ]
  },
  {
   "cell_type": "code",
   "execution_count": 206,
   "metadata": {},
   "outputs": [
    {
     "name": "stdout",
     "output_type": "stream",
     "text": [
      "[0 1 2 3 4 5 6 7 8 9]\n"
     ]
    }
   ],
   "source": [
    "x = np.arange(10)\n",
    "print(x.flatten())"
   ]
  },
  {
   "cell_type": "code",
   "execution_count": 208,
   "metadata": {},
   "outputs": [
    {
     "name": "stdout",
     "output_type": "stream",
     "text": [
      "[[0 1]\n",
      " [1 1]\n",
      " [2 2]]\n",
      "[1 2 4]\n"
     ]
    }
   ],
   "source": [
    "x = np.array([[0, 1], [1, 1], [2, 2]])\n",
    "print(x)\n",
    "print(x.sum(-1))"
   ]
  },
  {
   "cell_type": "code",
   "execution_count": 209,
   "metadata": {},
   "outputs": [
    {
     "name": "stdout",
     "output_type": "stream",
     "text": [
      "[11 15 19]\n"
     ]
    }
   ],
   "source": [
    "x = np.arange(30).reshape(3,5,2)\n",
    "print(x[1,::2,1])"
   ]
  },
  {
   "cell_type": "code",
   "execution_count": 211,
   "metadata": {},
   "outputs": [
    {
     "name": "stdout",
     "output_type": "stream",
     "text": [
      "[[ 0  1  2  3]\n",
      " [ 4  5  6  7]\n",
      " [ 8  9 10 11]]\n",
      "(1, 4)\n",
      "[[ 8  9 10 11]]\n"
     ]
    }
   ],
   "source": [
    "x = np.arange(12).reshape(3,4)\n",
    "print(x)\n",
    "print(x[-1:,].shape)\n",
    "print(x[-1:,])"
   ]
  },
  {
   "cell_type": "code",
   "execution_count": 212,
   "metadata": {},
   "outputs": [
    {
     "name": "stdout",
     "output_type": "stream",
     "text": [
      "[[0 1]]\n"
     ]
    }
   ],
   "source": [
    "x = np.array([[0, 1], [1, 1], [2, 2]])\n",
    "y = x.sum(-1)\n",
    "print(x[y < 2, :])"
   ]
  },
  {
   "cell_type": "code",
   "execution_count": 221,
   "metadata": {},
   "outputs": [
    {
     "name": "stdout",
     "output_type": "stream",
     "text": [
      "[[[ 0  1  2  3  4]\n",
      "  [ 5  6  7  8  9]\n",
      "  [10 11 12 13 14]]\n",
      "\n",
      " [[15 16 17 18 19]\n",
      "  [20 21 22 23 24]\n",
      "  [25 26 27 28 29]]]\n",
      "\n",
      "[[[ 0  1  2  3  4]\n",
      "  [ 5  6  7  8  9]\n",
      "  [10 11 12 13 14]]]\n",
      "\n",
      "[[[ 1  2]\n",
      "  [ 6  7]\n",
      "  [11 12]]]\n",
      "\n"
     ]
    }
   ],
   "source": [
    "x = np.arange(30).reshape(2,3,5)\n",
    "b = np.array([True,False]).reshape(2,)\n",
    "print(x,end='\\n\\n')\n",
    "print(x[b],end='\\n\\n')\n",
    "print(x[b,:,1:3],end='\\n\\n')"
   ]
  },
  {
   "cell_type": "code",
   "execution_count": 231,
   "metadata": {},
   "outputs": [
    {
     "name": "stdout",
     "output_type": "stream",
     "text": [
      "[25 27]\n"
     ]
    },
    {
     "data": {
      "text/plain": [
       "array([[[ 0,  1],\n",
       "        [ 2,  3],\n",
       "        [ 4,  5],\n",
       "        [ 6,  7],\n",
       "        [ 8,  9]],\n",
       "\n",
       "       [[10, 11],\n",
       "        [12, 13],\n",
       "        [14, 15],\n",
       "        [16, 17],\n",
       "        [18, 19]],\n",
       "\n",
       "       [[20, 21],\n",
       "        [22, 23],\n",
       "        [24, 25],\n",
       "        [26, 27],\n",
       "        [28, 29]]])"
      ]
     },
     "execution_count": 231,
     "metadata": {},
     "output_type": "execute_result"
    }
   ],
   "source": [
    "x = np.arange(30).reshape(3,5,2)\n",
    "print(x[-1, 2:-1, -1])\n",
    "x"
   ]
  },
  {
   "cell_type": "code",
   "execution_count": 233,
   "metadata": {},
   "outputs": [
    {
     "data": {
      "text/plain": [
       "(4, 1, 3, 7)"
      ]
     },
     "execution_count": 233,
     "metadata": {},
     "output_type": "execute_result"
    }
   ],
   "source": [
    "(np.random.rand(4,1,1,7) * np.random.rand(3,1)).shape"
   ]
  },
  {
   "cell_type": "code",
   "execution_count": 234,
   "metadata": {},
   "outputs": [
    {
     "name": "stdout",
     "output_type": "stream",
     "text": [
      "[ True  True  True  True]\n"
     ]
    }
   ],
   "source": [
    "x = np.arange(4)\n",
    "y = np.arange(4)\n",
    "\n",
    "print(x == y)"
   ]
  },
  {
   "cell_type": "code",
   "execution_count": 235,
   "metadata": {},
   "outputs": [
    {
     "name": "stdout",
     "output_type": "stream",
     "text": [
      "[1 2 4]\n"
     ]
    }
   ],
   "source": [
    "x = np.array([[0, 1], [1, 1], [2, 2]])\n",
    "print(x.sum(-1))"
   ]
  },
  {
   "cell_type": "code",
   "execution_count": 236,
   "metadata": {},
   "outputs": [
    {
     "name": "stdout",
     "output_type": "stream",
     "text": [
      "[3 3 3 3]\n"
     ]
    }
   ],
   "source": [
    "print(np.repeat(3, 4))"
   ]
  },
  {
   "cell_type": "code",
   "execution_count": 237,
   "metadata": {},
   "outputs": [
    {
     "name": "stdout",
     "output_type": "stream",
     "text": [
      "[[0 0 0]\n",
      " [0 0 0]]\n"
     ]
    }
   ],
   "source": [
    "x = np.array([[-1,0,1], [-2, 0, 2]])\n",
    "\n",
    "y = np.zeros_like(x)\n",
    "print(y)"
   ]
  },
  {
   "cell_type": "code",
   "execution_count": null,
   "metadata": {
    "collapsed": true
   },
   "outputs": [],
   "source": []
  }
 ],
 "metadata": {
  "kernelspec": {
   "display_name": "Python 3",
   "language": "python",
   "name": "python3"
  },
  "language_info": {
   "codemirror_mode": {
    "name": "ipython",
    "version": 3
   },
   "file_extension": ".py",
   "mimetype": "text/x-python",
   "name": "python",
   "nbconvert_exporter": "python",
   "pygments_lexer": "ipython3",
   "version": "3.6.2"
  }
 },
 "nbformat": 4,
 "nbformat_minor": 2
}
