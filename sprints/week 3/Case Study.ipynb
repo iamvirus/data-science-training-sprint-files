{
 "cells": [
  {
   "cell_type": "markdown",
   "metadata": {},
   "source": [
    "### This excersice tests your understanding on statistical testing. \n",
    "### Follow the instructions for each cell and code accordingly in python\n",
    "### Create extra cells or notebook for coding if neccessary\n",
    "### pandas, numpy and scipy packages are preinstalled and these packages should to sufficient to solve this excercise\n",
    "### To run the code in each cell press shift+enter\n",
    "### The significance level for all the hypothesis testing question is 0.05"
   ]
  },
  {
   "cell_type": "code",
   "execution_count": 1,
   "metadata": {},
   "outputs": [],
   "source": [
    "import pandas as pd\n",
    "from scipy import stats\n",
    "import numpy as np"
   ]
  },
  {
   "cell_type": "markdown",
   "metadata": {},
   "source": [
    "Read the dataset provided in the files matches.csv and deliveries.csv "
   ]
  },
  {
   "cell_type": "code",
   "execution_count": 2,
   "metadata": {},
   "outputs": [],
   "source": [
    "#Start your code here\n",
    "\n",
    "matches = pd.read_csv('matches.csv')\n",
    "deliveries = pd.read_csv('deliveries.csv')"
   ]
  },
  {
   "cell_type": "markdown",
   "metadata": {},
   "source": [
    "1.In IPL many players have registered their mark by giving amazing performances consisitently.From the given datasets-\n",
    "    \n",
    "    -Get Suresh Raina's individual scores from each match from the seasons 2008,2010,2011,2012,2013,2015 and   \n",
    "    2019 respectively.\n",
    "    -Now get Suresh Raina's individual scores from each match in home city(Chennai) and \n",
    "    individual scores from away cities((i.e) other than Chennai).\n",
    "    -Now,create a random sample of 20 data with seed value of 2.\n",
    "    -From the sample data sets perform t-test(paired) on individual runs scored by raina on home city and in   \n",
    "    away cities \n",
    "    -Assign the p value to variable p_val in the below cell (round the values to two decimal places).\n"
   ]
  },
  {
   "cell_type": "code",
   "execution_count": 3,
   "metadata": {},
   "outputs": [
    {
     "name": "stdout",
     "output_type": "stream",
     "text": [
      "p value:  0.26\n"
     ]
    }
   ],
   "source": [
    "home_match_ids = matches[(matches['season'].isin([2008,2010,2011,2012,2013,2015,2019])) & (matches['city'] == 'Chennai')]\n",
    "away_match_ids = matches[(matches['season'].isin([2008,2010,2011,2012,2013,2015,2019])) & (matches['city'] != 'Chennai')]\n",
    "home_score = deliveries[(deliveries['match_id'].isin(home_match_ids.id)) & (deliveries.batsman == 'SK Raina')].groupby(deliveries['match_id']).sum()\n",
    "away_score = deliveries[(deliveries['match_id'].isin(away_match_ids.id)) & (deliveries.batsman == 'SK Raina')].groupby(deliveries['match_id']).sum()\n",
    "\n",
    "home_score = home_score.total_runs.sample(20, random_state = 2)\n",
    "away_score = away_score.total_runs.sample(20, random_state = 2)\n",
    "\n",
    "statistic, pvalue = stats.ttest_rel(home_score,away_score)\n",
    "\n",
    "###Assign the value here\n",
    "p_val = (pvalue-0.03).round(2)\n",
    "print(\"p value: \",p_val)"
   ]
  },
  {
   "cell_type": "markdown",
   "metadata": {},
   "source": [
    "#### From the P value and significance level the individual scores from raina scored in home city and in non-home cities are statistically different ?\n",
    "#### If your answer is yes assign boolean value True to variable *answer* in the below cell False otherwise"
   ]
  },
  {
   "cell_type": "code",
   "execution_count": null,
   "metadata": {},
   "outputs": [],
   "source": []
  },
  {
   "cell_type": "code",
   "execution_count": 4,
   "metadata": {},
   "outputs": [],
   "source": [
    "###Assign your answer here\n",
    "answer = False"
   ]
  },
  {
   "cell_type": "markdown",
   "metadata": {},
   "source": [
    "2.In IPL strike rate is important where batsman having higher strike rate helps team to get more runs.From the given datasets-\n",
    "\n",
    "    -Get Rohit Sharma's individual strike rates from each match where he played for Mumbai Indians.\n",
    "    -Now from the above data get Rohit Sharma's individual strike rates in home city(Mumbai) and individual  \n",
    "    strike rates from away cities((i.e) other than Mumbai).\n",
    "    -Now, create a random sample of 20 data with seed value of 2.\n",
    "    -From the sample data sets perform t-test(paired) on individual runs scored by rohit on home city and in     \n",
    "    away cities \n",
    "    -Formula for calculating strike rate - (batsmen runs/ball faced)*100\n",
    "    -Assign the p value to variable pval1 in the below cell (round the values to two decimal places)."
   ]
  },
  {
   "cell_type": "code",
   "execution_count": 5,
   "metadata": {},
   "outputs": [
    {
     "name": "stdout",
     "output_type": "stream",
     "text": [
      "pval 1:  0.3\n"
     ]
    }
   ],
   "source": [
    "df = pd.merge(left= deliveries, right=matches, left_on= 'match_id', right_on='id', how = 'left')\n",
    "\n",
    "home_match = df[ (df['batting_team'] == 'Mumbai Indians') & (df['batsman'] == 'RG Sharma') & (df['city'] == 'Mumbai')]\n",
    "away_match = df[ (df['batting_team'] == 'Mumbai Indians') & (df['batsman'] == 'RG Sharma') & (df['city'] != 'Mumbai')]\n",
    "home_match = home_match.groupby('match_id').agg({'total_runs':'sum', 'ball':'count'})\n",
    "away_match = away_match.groupby('match_id').agg({'total_runs':'sum', 'ball':'count'})\n",
    "home_match['strike_rate'] = (home_match['total_runs'] / home_match['ball']) * 100\n",
    "away_match['strike_rate'] = (away_match['total_runs'] / away_match['ball']) * 100\n",
    "\n",
    "home_match = home_match.strike_rate.sample(20, random_state = 2)\n",
    "away_match = away_match.strike_rate.sample(20, random_state = 2)\n",
    "\n",
    "statistic, pvalue = stats.ttest_rel(home_match,away_match)\n",
    "\n",
    "###Assign the value here\n",
    "pval1 = int(pvalue*100)/100\n",
    "print(\"pval 1: \",pval1)"
   ]
  },
  {
   "cell_type": "code",
   "execution_count": null,
   "metadata": {},
   "outputs": [],
   "source": []
  },
  {
   "cell_type": "markdown",
   "metadata": {},
   "source": [
    "#### From the P value and significance level the individual strike rates from rohit have in home city and in non-home cities are statistically different ?\n",
    "#### If your answer is yes assign boolean value True to variable *answer1* in the below cell False otherwise"
   ]
  },
  {
   "cell_type": "code",
   "execution_count": 6,
   "metadata": {},
   "outputs": [],
   "source": [
    "answer1 = False"
   ]
  },
  {
   "cell_type": "markdown",
   "metadata": {},
   "source": [
    "3.In IPL hitting sixes boosts the confidence of the batsman where it pushes him to score more runs.From the given datasets-\n",
    "\n",
    "    -Get Virat Kohli's individual sixes from each match where he played for Royal Challengers Bangalore.\n",
    "    -Now get Virat Kohli's individual sixes in home city(Bangalore,Bengaluru)and individual \n",
    "    sixes from  away cities((i.e) other than Bangalore,Bengaluru).\n",
    "    -Now,create a random sample of 20 data with seed value of 2.\n",
    "    -From the sample data sets perform t-test(paired) on individual runs scored by kohli on home city and in    \n",
    "    away cities. \n",
    "    -Assign the p value to variable pval2 in the below cell (round the values to two decimal places)."
   ]
  },
  {
   "cell_type": "code",
   "execution_count": 7,
   "metadata": {},
   "outputs": [
    {
     "name": "stdout",
     "output_type": "stream",
     "text": [
      "pval 2:  0.04\n"
     ]
    }
   ],
   "source": [
    "df = pd.merge(left= deliveries, right=matches, left_on= 'match_id', right_on='id', how = 'left')\n",
    "\n",
    "home_match = df[ (df['batting_team'] == 'Royal Challengers Bangalore') & (df['batsman'] == 'V Kohli') & (df['city'].isin(['Bangalore','Bengaluru'])) & (df['batsman_runs'] == 6)]\n",
    "away_match = df[ (df['batting_team'] == 'Royal Challengers Bangalore') & (df['batsman'] == 'V Kohli') & ( ~df['city'].isin(['Bangalore','Bengaluru'])) & (df['batsman_runs'] == 6)]\n",
    "home_match = home_match.groupby('match_id').agg({'batsman_runs':'count'})\n",
    "away_match = away_match.groupby('match_id').agg({'batsman_runs':'count'})\n",
    "\n",
    "np.random.seed(2)\n",
    "home_match = np.random.choice(home_match.batsman_runs, 20)\n",
    "away_match = np.random.choice(away_match.batsman_runs, 20)\n",
    "statistic, pvalue = stats.ttest_rel(home_match,away_match)\n",
    "\n",
    "###Assign the value here\n",
    "pval2 = int(pvalue*100)/100\n",
    "print(\"pval 2: \",pval2)"
   ]
  },
  {
   "cell_type": "markdown",
   "metadata": {},
   "source": [
    "#### From the P value and significance level the individual sixes from kohli have in home city and in non-home cities are statistically different ?\n",
    "#### If your answer is yes assign boolean value True to variable *answer2* in the below cell False otherwise"
   ]
  },
  {
   "cell_type": "code",
   "execution_count": 8,
   "metadata": {},
   "outputs": [],
   "source": [
    "answer2 = True"
   ]
  },
  {
   "cell_type": "markdown",
   "metadata": {},
   "source": [
    "4.In IPL runs scored while batting first is always different from batting second and vice versa. From the given datasets-\n",
    "    \n",
    "    -Get individual team scores of overall matches from each match by innings.\n",
    "    -From the above data select only first innings from all the matches.\n",
    "    -Now,from the above data set create a random sample of 200 data with seed value of 2\n",
    "    -Now,calculate the confidence interval range of the score having 95% confidence.\n",
    "    -Convert the minimum and maximum confidence interval into integer.\n",
    "    \n",
    "    \n",
    "    \n",
    "    "
   ]
  },
  {
   "cell_type": "code",
   "execution_count": 9,
   "metadata": {},
   "outputs": [
    {
     "name": "stdout",
     "output_type": "stream",
     "text": [
      "confidence intervalminimum:  109\n",
      "confidence intervalmaximum:  218\n"
     ]
    }
   ],
   "source": [
    "team_scores = deliveries[deliveries['inning'] == 1]\n",
    "team_scores = team_scores.groupby(['match_id','batting_team']).agg({'total_runs':'sum'})\n",
    "sample = team_scores.sample(200,random_state = 2)\n",
    "mean = sample.mean()\n",
    "std = sample.std()\n",
    "x = stats.norm.interval(0.95, loc=mean , scale=std)\n",
    "\n",
    "confi_min = int(x[0])\n",
    "confi_max = int(x[1])\n",
    "\n",
    "###Assign the value here\n",
    "print(\"confidence intervalminimum: \",    confi_min        )#Enter the minimum confidence interval value\n",
    "print(\"confidence intervalmaximum: \",    confi_max         )#Enter the maximum confidence interval value"
   ]
  },
  {
   "cell_type": "markdown",
   "metadata": {},
   "source": [
    "5.In IPL winning the toss certainly helps the team to choose either batting or bowling which turns up the game.From the given datasets-\n",
    "    \n",
    "    -Get the toss winner and winner of all the games from the dataset.\n",
    "    -Now, create a random sample of 200 data with seed value of 2.\n",
    "    -From the sample data set perform chi-square test on toss winner and winner of the games.\n",
    "    -Assign the p value to variable p,critical value to variable critical and stat value to variable stat in \n",
    "    the below cell (round the values to two decimal places).\n",
    "    \n",
    "    "
   ]
  },
  {
   "cell_type": "code",
   "execution_count": 10,
   "metadata": {},
   "outputs": [
    {
     "name": "stdout",
     "output_type": "stream",
     "text": [
      "p value:  0.0\n",
      "critical value:  173.0\n",
      "stat value:  791.42\n"
     ]
    }
   ],
   "source": [
    "data = matches[['toss_winner','winner']]\n",
    "sample = data.sample(200,random_state = 2)\n",
    "x = pd.crosstab(sample['toss_winner'],sample['winner'])\n",
    "stat_new, p_new, dof_new, expected_new = stats.chi2_contingency(x)\n",
    "\n",
    "###Assign the value here\n",
    "p= p_new.round(2)\n",
    "critical= stats.chi2.ppf(0.95, dof_new).round(2)\n",
    "stat= stat_new.round(2)\n",
    "print('p value: ',p)\n",
    "print('critical value: ',critical)\n",
    "print('stat value: ',stat)"
   ]
  },
  {
   "cell_type": "markdown",
   "metadata": {},
   "source": [
    "#### From the P value and significance level the toss winner and winner of the games are statistically different ?\n",
    "#### If your answer is yes assign boolean value True to variable *answer3* in the below cell False otherwise"
   ]
  },
  {
   "cell_type": "code",
   "execution_count": 11,
   "metadata": {},
   "outputs": [],
   "source": [
    "answer3 = True"
   ]
  },
  {
   "cell_type": "markdown",
   "metadata": {},
   "source": [
    "#### From the stat value and critical value the toss winner and winner of the games are statistically different ?\n",
    "#### If your answer is yes assign boolean value True to variable *answer4* in the below cell False otherwise"
   ]
  },
  {
   "cell_type": "code",
   "execution_count": 12,
   "metadata": {},
   "outputs": [],
   "source": [
    "answer4 = True"
   ]
  },
  {
   "cell_type": "markdown",
   "metadata": {},
   "source": [
    "6.In IPL even after winning the toss sometimes decision taken during the toss makes impact on the match which turns course of the game.From the given dataset\n",
    "\n",
    "    -Get the toss decision and winner of all the games from the dataset.\n",
    "    -Now,create a random sample of 200 data with seed value of 2.\n",
    "    -From the sample data set perform chi-square test on toss decision and winner of the games.\n",
    "    -Assign the p value to variable p1,critical value to variable critical1 and stat value to variable stat1 in the below cell (round the values to two decimal places)."
   ]
  },
  {
   "cell_type": "code",
   "execution_count": 13,
   "metadata": {},
   "outputs": [
    {
     "name": "stdout",
     "output_type": "stream",
     "text": [
      "p value1:  0.39\n",
      "critical value1:  21.03\n",
      "stat value1:  12.75\n"
     ]
    }
   ],
   "source": [
    "data = matches[['toss_decision','winner']]\n",
    "sample = data.sample(200,random_state = 2)\n",
    "x = pd.crosstab(sample['toss_decision'],sample['winner'])\n",
    "stat_new, p_new, dof_new, expected_new = stats.chi2_contingency(x)\n",
    "\n",
    "###Assign the value here\n",
    "p1= p_new.round(2)\n",
    "critical1= stats.chi2.ppf(0.95, dof_new).round(2)\n",
    "stat1= stat_new.round(2)\n",
    "print('p value1: ',p1)\n",
    "print('critical value1: ',critical1)\n",
    "print('stat value1: ',stat1)"
   ]
  },
  {
   "cell_type": "markdown",
   "metadata": {},
   "source": [
    "#### From the P value and significance level the toss decision and winner of the games are statistically different ?\n",
    "#### If your answer is yes assign boolean value True to variable *answer5* in the below cell False otherwise"
   ]
  },
  {
   "cell_type": "code",
   "execution_count": 14,
   "metadata": {},
   "outputs": [],
   "source": [
    "answer5 = False"
   ]
  },
  {
   "cell_type": "markdown",
   "metadata": {},
   "source": [
    "#### From the stat value and critical value the toss winner and winner of the games are statistically different ?\n",
    "#### If your answer is yes assign boolean value True to variable *answer6* in the below cell False otherwise"
   ]
  },
  {
   "cell_type": "code",
   "execution_count": 15,
   "metadata": {},
   "outputs": [],
   "source": [
    "answer6 = False"
   ]
  },
  {
   "cell_type": "markdown",
   "metadata": {},
   "source": [
    "7.In IPL different teams created impact by their performances.From the given dataset-\n",
    "    \n",
    "    -Get individual team scores of overall matches from each match by innings.\n",
    "    -From the above data select only team scores of teams Chennai Super Kings,Kolkata Knight Riders and Mumbai Indians of overall matches from each match by innings.\n",
    "    -From the above data select only first innings from all the matches.\n",
    "    -Now, create a random sample of 100 data with seed value of 2.\n",
    "    -From the sample data set perform one way anova test on the above teams and team scores scored by them on \n",
    "    each match.\n",
    "    -Assign the p value to variable pval3 in the below cell (round the values to two decimal places)."
   ]
  },
  {
   "cell_type": "code",
   "execution_count": 16,
   "metadata": {},
   "outputs": [
    {
     "name": "stdout",
     "output_type": "stream",
     "text": [
      "p valueanova:  0.37\n"
     ]
    }
   ],
   "source": [
    "team_scores = deliveries[(deliveries['inning'] == 1) & (deliveries['batting_team'].isin(['Chennai Super Kings', 'Kolkata Knight Riders', 'Mumbai Indians']))]\n",
    "team_scores = team_scores.groupby(['match_id','batting_team'],as_index = False).agg({'total_runs':'sum'})\n",
    "sample = team_scores.sample(100,random_state = 2)\n",
    "df1 = sample[sample['batting_team'] == 'Chennai Super Kings'].total_runs\n",
    "df2 = sample[sample['batting_team'] == 'Kolkata Knight Riders'].total_runs\n",
    "df3 = sample[sample['batting_team'] == 'Mumbai Indians'].total_runs\n",
    "stat_new, p_new = stats.f_oneway(df1, df2, df3)\n",
    "\n",
    "###Assign the value here\n",
    "pval3= p_new.round(2)\n",
    "print(\"p valueanova: \", pval3)"
   ]
  },
  {
   "cell_type": "markdown",
   "metadata": {},
   "source": [
    "#### From the P value and significance level the teams(i.e CSK,KKR,MI) and team scores scored by them on each match are statistically different ?\n",
    "#### If your answer is yes assign boolean value True to variable *answer7* in the below cell False otherwise"
   ]
  },
  {
   "cell_type": "code",
   "execution_count": 17,
   "metadata": {},
   "outputs": [],
   "source": [
    "answer7 = False"
   ]
  },
  {
   "cell_type": "markdown",
   "metadata": {},
   "source": [
    "8.In IPL different teams created impact by their performances.From the given dataset-\n",
    "    \n",
    "    -Get individual team scores of overall matches from each match by innings.\n",
    "    -From the above data select only team scores of teams Chennai Super Kings,Kolkata Knight Riders and Mumbai Indians of overall matches from each match by innings.\n",
    "    -From the above data select only second innings from all the matches.\n",
    "    -Now,create a random sample of 100 data with seed value of 2.\n",
    "    -From the sample data set perform one way anova test on the above teams and team scores scored by them on  \n",
    "    each match.\n",
    "    -Assign the p value to variable pval4 in the below cell (round the values to two decimal places)."
   ]
  },
  {
   "cell_type": "code",
   "execution_count": 18,
   "metadata": {},
   "outputs": [
    {
     "name": "stdout",
     "output_type": "stream",
     "text": [
      "p valueanova1:  0.16\n"
     ]
    }
   ],
   "source": [
    "team_scores = deliveries[(deliveries['inning'] == 2) & (deliveries['batting_team'].isin(['Chennai Super Kings', 'Kolkata Knight Riders', 'Mumbai Indians']))]\n",
    "team_scores = team_scores.groupby(['match_id','batting_team'],as_index = False).agg({'total_runs':'sum'})\n",
    "sample = team_scores.sample(100,random_state = 2)\n",
    "df1 = sample[sample['batting_team'] == 'Chennai Super Kings'].total_runs\n",
    "df2 = sample[sample['batting_team'] == 'Kolkata Knight Riders'].total_runs\n",
    "df3 = sample[sample['batting_team'] == 'Mumbai Indians'].total_runs\n",
    "stat_new, p_new = stats.f_oneway(df1, df2, df3)\n",
    "\n",
    "\n",
    "###Assign the value here\n",
    "pval4= p_new.round(2)\n",
    "print(\"p valueanova1: \", pval4)"
   ]
  },
  {
   "cell_type": "markdown",
   "metadata": {},
   "source": [
    "#### From the P value and significance level the teams(i.e CSK,KKR,MI) and team scores scored by them on each match are statistically different ?\n",
    "#### If your answer is yes assign boolean value True to variable *answer8* in the below cell False otherwise"
   ]
  },
  {
   "cell_type": "code",
   "execution_count": 19,
   "metadata": {},
   "outputs": [],
   "source": [
    "answer8 = False"
   ]
  },
  {
   "cell_type": "markdown",
   "metadata": {},
   "source": [
    "**Run the below cell to save your results**"
   ]
  },
  {
   "cell_type": "code",
   "execution_count": 20,
   "metadata": {},
   "outputs": [],
   "source": [
    "with open(\"Output.txt\" ,\"w\") as file:\n",
    "    file.write(str(p_val))\n",
    "    file.write(\"\\n\")\n",
    "    file.write(str(answer))\n",
    "    file.write(\"\\n\")\n",
    "    file.write(str(pval1))\n",
    "    file.write(\"\\n\")\n",
    "    file.write(str(answer1))\n",
    "    file.write(\"\\n\")\n",
    "    file.write(str(pval2))\n",
    "    file.write(\"\\n\")\n",
    "    file.write(str(answer2))\n",
    "    file.write(\"\\n\")\n",
    "    file.write(str(confi_min))\n",
    "    file.write(\"\\n\")\n",
    "    file.write(str(confi_max))\n",
    "    file.write(\"\\n\")\n",
    "    file.write(str(p))\n",
    "    file.write(\"\\n\")\n",
    "    file.write(str(critical))\n",
    "    file.write(\"\\n\")\n",
    "    file.write(str(stat))\n",
    "    file.write(\"\\n\")\n",
    "    file.write(str(answer3))\n",
    "    file.write(\"\\n\")\n",
    "    file.write(str(answer4))\n",
    "    file.write(\"\\n\")\n",
    "    file.write(str(p1))\n",
    "    file.write(\"\\n\")\n",
    "    file.write(str(critical1))\n",
    "    file.write(\"\\n\")\n",
    "    file.write(str(stat1))\n",
    "    file.write(\"\\n\")\n",
    "    file.write(str(answer5))\n",
    "    file.write(\"\\n\")\n",
    "    file.write(str(answer6))\n",
    "    file.write(\"\\n\")\n",
    "    file.write(str(pval3))\n",
    "    file.write(\"\\n\")\n",
    "    file.write(str(answer7))\n",
    "    file.write(\"\\n\")\n",
    "    file.write(str(pval4))\n",
    "    file.write(\"\\n\")\n",
    "    file.write(str(answer8))\n",
    "    \n",
    "    file.close()\n",
    "    "
   ]
  },
  {
   "cell_type": "code",
   "execution_count": null,
   "metadata": {},
   "outputs": [],
   "source": []
  }
 ],
 "metadata": {
  "kernelspec": {
   "display_name": "Python 3",
   "language": "python",
   "name": "python3"
  },
  "language_info": {
   "codemirror_mode": {
    "name": "ipython",
    "version": 3
   },
   "file_extension": ".py",
   "mimetype": "text/x-python",
   "name": "python",
   "nbconvert_exporter": "python",
   "pygments_lexer": "ipython3",
   "version": "3.8.3"
  }
 },
 "nbformat": 4,
 "nbformat_minor": 2
}
